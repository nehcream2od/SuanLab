{
 "cells": [
  {
   "cell_type": "markdown",
   "metadata": {
    "id": "zn3AJtaOnrN5"
   },
   "source": [
    "# 결정 트리(Decision Tree)\n",
    "\n",
    "* 분류와 회귀에 사용되는 지도 학습 방법\n",
    "* 데이터 특성으로 부터 추론된 결정 규칙을 통해 값을 예측\n",
    "* **if-then-else** 결정 규칙을 통해 데이터 학습\n",
    "* 트리의 깊이가 깊을 수록 복잡한 모델\n",
    "* 결정 트리 장점\n",
    "  * 이해와 해석이 쉽다\n",
    "  * 시각화가 용이하다\n",
    "  * 많은 데이터 전처리가 필요하지 않다\n",
    "  * 수치형과 범주형 데이터 모두를 다룰 수 있다\n",
    "  * ..."
   ]
  },
  {
   "cell_type": "code",
   "execution_count": 1,
   "metadata": {
    "id": "89FZ4_7qeJIe"
   },
   "outputs": [
    {
     "ename": "ModuleNotFoundError",
     "evalue": "No module named 'graphviz'",
     "output_type": "error",
     "traceback": [
      "\u001b[0;31m---------------------------------------------------------------------------\u001b[0m",
      "\u001b[0;31mModuleNotFoundError\u001b[0m                       Traceback (most recent call last)",
      "Cell \u001b[0;32mIn[1], line 3\u001b[0m\n\u001b[1;32m      1\u001b[0m \u001b[39mimport\u001b[39;00m \u001b[39mpandas\u001b[39;00m \u001b[39mas\u001b[39;00m \u001b[39mpd\u001b[39;00m\n\u001b[1;32m      2\u001b[0m \u001b[39mimport\u001b[39;00m \u001b[39mnumpy\u001b[39;00m \u001b[39mas\u001b[39;00m \u001b[39mnp\u001b[39;00m\n\u001b[0;32m----> 3\u001b[0m \u001b[39mimport\u001b[39;00m \u001b[39mgraphviz\u001b[39;00m\n\u001b[1;32m      4\u001b[0m \u001b[39mimport\u001b[39;00m \u001b[39mmultiprocessing\u001b[39;00m\n\u001b[1;32m      5\u001b[0m \u001b[39mimport\u001b[39;00m \u001b[39mmatplotlib\u001b[39;00m\u001b[39m.\u001b[39;00m\u001b[39mpyplot\u001b[39;00m \u001b[39mas\u001b[39;00m \u001b[39mplt\u001b[39;00m\n",
      "\u001b[0;31mModuleNotFoundError\u001b[0m: No module named 'graphviz'"
     ]
    }
   ],
   "source": [
    "import pandas as pd\n",
    "import numpy as np\n",
    "import multiprocessing\n",
    "import matplotlib.pyplot as plt\n",
    "plt.style.use(['seaborn-whitegrid'])"
   ]
  },
  {
   "cell_type": "code",
   "execution_count": null,
   "metadata": {
    "id": "ciPFp2NHqfPM"
   },
   "outputs": [],
   "source": []
  },
  {
   "cell_type": "markdown",
   "metadata": {
    "id": "vDPbkuSzcWH9"
   },
   "source": [
    "## 분류를 위한 데이터"
   ]
  },
  {
   "cell_type": "markdown",
   "metadata": {
    "id": "q_sRgXQGceAj"
   },
   "source": [
    "### 붓꽃 데이터"
   ]
  },
  {
   "cell_type": "code",
   "execution_count": null,
   "metadata": {
    "id": "760ImD9fc0YJ"
   },
   "outputs": [],
   "source": []
  },
  {
   "cell_type": "code",
   "execution_count": null,
   "metadata": {
    "id": "xwJvYvx2d0S_"
   },
   "outputs": [],
   "source": []
  },
  {
   "cell_type": "markdown",
   "metadata": {
    "id": "nOVqeGk5rxPJ"
   },
   "source": [
    "### 와인 데이터"
   ]
  },
  {
   "cell_type": "code",
   "execution_count": null,
   "metadata": {
    "id": "Uwb4jnXmr0x9"
   },
   "outputs": [],
   "source": []
  },
  {
   "cell_type": "code",
   "execution_count": null,
   "metadata": {
    "id": "sE3ZWt-Kr3dH"
   },
   "outputs": [],
   "source": []
  },
  {
   "cell_type": "markdown",
   "metadata": {
    "id": "gpoDftYRchLv"
   },
   "source": [
    "### 유방암 데이터"
   ]
  },
  {
   "cell_type": "code",
   "execution_count": null,
   "metadata": {
    "id": "wP_oWX-TejP_"
   },
   "outputs": [],
   "source": []
  },
  {
   "cell_type": "code",
   "execution_count": null,
   "metadata": {
    "id": "MPgE2yqYelI1"
   },
   "outputs": [],
   "source": []
  },
  {
   "cell_type": "markdown",
   "metadata": {
    "id": "uDXi89M2cYJu"
   },
   "source": [
    "## 회귀를 위한 데이터"
   ]
  },
  {
   "cell_type": "markdown",
   "metadata": {
    "id": "mjESncZLckBn"
   },
   "source": [
    "### 보스턴 주택 가격 데이터"
   ]
  },
  {
   "cell_type": "code",
   "execution_count": null,
   "metadata": {
    "id": "XaZrNOWxe7WR"
   },
   "outputs": [],
   "source": []
  },
  {
   "cell_type": "code",
   "execution_count": null,
   "metadata": {
    "id": "_am1Rayne8zn"
   },
   "outputs": [],
   "source": []
  },
  {
   "cell_type": "markdown",
   "metadata": {
    "id": "e9Xpw7Neqm5c"
   },
   "source": [
    "### 당뇨병 데이터"
   ]
  },
  {
   "cell_type": "code",
   "execution_count": null,
   "metadata": {
    "id": "qAgjuhWRqqkj"
   },
   "outputs": [],
   "source": []
  },
  {
   "cell_type": "code",
   "execution_count": null,
   "metadata": {
    "id": "OS3ipMyLrDgi"
   },
   "outputs": [],
   "source": []
  },
  {
   "cell_type": "markdown",
   "metadata": {
    "id": "C9SE86hTuooq"
   },
   "source": [
    "## 분류 - `DecisionTreeClassifier()`\n",
    "\n",
    "* `DecisionTreeClassifier`는 분류를 위한 결정트리 모델\n",
    "* 두개의 배열 X, y를 입력 받음\n",
    "  * X는 [n_samples, n_features] 크기의 데이터 특성 배열\n",
    "  * y는 [n_samples] 크기의 정답 배열"
   ]
  },
  {
   "cell_type": "code",
   "execution_count": null,
   "metadata": {
    "id": "d2KmFO55nXp2"
   },
   "outputs": [],
   "source": []
  },
  {
   "cell_type": "code",
   "execution_count": null,
   "metadata": {
    "id": "4QSnrXsdwP-s"
   },
   "outputs": [],
   "source": []
  },
  {
   "cell_type": "code",
   "execution_count": null,
   "metadata": {
    "id": "QV2DPs7KwbAN"
   },
   "outputs": [],
   "source": []
  },
  {
   "cell_type": "markdown",
   "metadata": {
    "id": "q3zsYbBnwsxv"
   },
   "source": [
    "### 붓꽃 데이터 학습"
   ]
  },
  {
   "cell_type": "markdown",
   "metadata": {
    "id": "Ab213yKXkOBx"
   },
   "source": [
    "#### 교차검증"
   ]
  },
  {
   "cell_type": "markdown",
   "metadata": {
    "id": "VB1eyWcslWpr"
   },
   "source": [
    "##### 전처리 없이 학습"
   ]
  },
  {
   "cell_type": "code",
   "execution_count": null,
   "metadata": {
    "id": "tYMA6_qhg5EM"
   },
   "outputs": [],
   "source": []
  },
  {
   "cell_type": "code",
   "execution_count": null,
   "metadata": {
    "id": "SFFybhvChGlB"
   },
   "outputs": [],
   "source": []
  },
  {
   "cell_type": "markdown",
   "metadata": {
    "id": "04yVAwpllbuW"
   },
   "source": [
    "##### 전처리 후 학습\n",
    "* 결정 트리는 규칙을 학습하기 때문에 전처리에 큰 영향을 받지 않는다."
   ]
  },
  {
   "cell_type": "code",
   "execution_count": null,
   "metadata": {
    "id": "-qb7NpeKi5vi"
   },
   "outputs": [],
   "source": []
  },
  {
   "cell_type": "code",
   "execution_count": null,
   "metadata": {
    "id": "1Gar4cXjjFzm"
   },
   "outputs": [],
   "source": []
  },
  {
   "cell_type": "markdown",
   "metadata": {
    "id": "mBDxGGoVyRnO"
   },
   "source": [
    "#### 학습된 결정 트리 시각화"
   ]
  },
  {
   "cell_type": "code",
   "execution_count": null,
   "metadata": {
    "id": "jasfz-4UiQEF"
   },
   "outputs": [],
   "source": []
  },
  {
   "cell_type": "markdown",
   "metadata": {
    "id": "ESB60z8ZckQ5"
   },
   "source": [
    "##### 텍스트를 통한 시각화"
   ]
  },
  {
   "cell_type": "code",
   "execution_count": null,
   "metadata": {
    "id": "WE8F0oQjzTSK"
   },
   "outputs": [],
   "source": []
  },
  {
   "cell_type": "markdown",
   "metadata": {
    "id": "FL1M2O2ZcZn2"
   },
   "source": [
    "##### plot_tree를 사용한 시각화"
   ]
  },
  {
   "cell_type": "code",
   "execution_count": null,
   "metadata": {
    "id": "Pvq9HEXQyEgu"
   },
   "outputs": [],
   "source": []
  },
  {
   "cell_type": "markdown",
   "metadata": {
    "id": "AROy5ZJZcf0Z"
   },
   "source": [
    "##### graphviz를 사용한 시각화"
   ]
  },
  {
   "cell_type": "code",
   "execution_count": null,
   "metadata": {
    "id": "YORbOln-yYZB"
   },
   "outputs": [],
   "source": []
  },
  {
   "cell_type": "markdown",
   "metadata": {
    "id": "5oBojyy9wxZ4"
   },
   "source": [
    "#### 시각화"
   ]
  },
  {
   "cell_type": "code",
   "execution_count": null,
   "metadata": {
    "id": "YHlSKnLN3Lva"
   },
   "outputs": [],
   "source": []
  },
  {
   "cell_type": "markdown",
   "metadata": {
    "id": "JDfF8OOX2XkP"
   },
   "source": [
    "##### 결정 경계 시각화"
   ]
  },
  {
   "cell_type": "code",
   "execution_count": null,
   "metadata": {
    "id": "Hy9nQO9s1D5M"
   },
   "outputs": [],
   "source": []
  },
  {
   "cell_type": "markdown",
   "metadata": {
    "id": "RIkiV_lm5eKu"
   },
   "source": [
    "##### 하이퍼파리미터를 변경해 보면서 결정 경계의 변화 확인"
   ]
  },
  {
   "cell_type": "code",
   "execution_count": null,
   "metadata": {
    "id": "F97kaCJV1yQZ"
   },
   "outputs": [],
   "source": []
  },
  {
   "cell_type": "markdown",
   "metadata": {
    "id": "gWjcDyF-uuOf"
   },
   "source": [
    "### 와인 데이터 학습"
   ]
  },
  {
   "cell_type": "markdown",
   "metadata": {
    "id": "NnO_P36HuyU9"
   },
   "source": [
    "#### 교차 검증"
   ]
  },
  {
   "cell_type": "markdown",
   "metadata": {
    "id": "ekUCUhanvlhs"
   },
   "source": [
    "##### 전처리 없이 학습"
   ]
  },
  {
   "cell_type": "code",
   "execution_count": null,
   "metadata": {
    "id": "z74Ov-kVvf-b"
   },
   "outputs": [],
   "source": []
  },
  {
   "cell_type": "code",
   "execution_count": null,
   "metadata": {
    "id": "wQwLy-rGvoEg"
   },
   "outputs": [],
   "source": []
  },
  {
   "cell_type": "markdown",
   "metadata": {
    "id": "iqaeZ9szvxbi"
   },
   "source": [
    "##### 전처리 후 학습"
   ]
  },
  {
   "cell_type": "code",
   "execution_count": null,
   "metadata": {
    "id": "2VymgUWZv0JS"
   },
   "outputs": [],
   "source": []
  },
  {
   "cell_type": "code",
   "execution_count": null,
   "metadata": {
    "id": "w555gJvLv195"
   },
   "outputs": [],
   "source": []
  },
  {
   "cell_type": "markdown",
   "metadata": {
    "id": "Wg3vEchTu1G_"
   },
   "source": [
    "#### 학습된 결정 트리 시각화"
   ]
  },
  {
   "cell_type": "code",
   "execution_count": null,
   "metadata": {
    "id": "u1zgjL8OwMdl"
   },
   "outputs": [],
   "source": []
  },
  {
   "cell_type": "markdown",
   "metadata": {
    "id": "0BQEXGQywJf2"
   },
   "source": [
    "##### 텍스트를 통한 시각화"
   ]
  },
  {
   "cell_type": "code",
   "execution_count": null,
   "metadata": {
    "id": "T3TrGtd_weG2"
   },
   "outputs": [],
   "source": []
  },
  {
   "cell_type": "markdown",
   "metadata": {
    "id": "AMxRRbwMwEOb"
   },
   "source": [
    "##### plot_tree를 사용한 시각화"
   ]
  },
  {
   "cell_type": "code",
   "execution_count": null,
   "metadata": {
    "id": "0HsfQU1gwUR6"
   },
   "outputs": [],
   "source": []
  },
  {
   "cell_type": "markdown",
   "metadata": {
    "id": "CINtdIuuwG-Q"
   },
   "source": [
    "##### graphviz를 사용한 시각화"
   ]
  },
  {
   "cell_type": "code",
   "execution_count": null,
   "metadata": {
    "id": "H-gF0vb6wWs5"
   },
   "outputs": [],
   "source": []
  },
  {
   "cell_type": "markdown",
   "metadata": {
    "id": "m2FQuyUJw7RM"
   },
   "source": [
    "#### 시각화"
   ]
  },
  {
   "cell_type": "code",
   "execution_count": null,
   "metadata": {
    "id": "Sddsudldw8sj"
   },
   "outputs": [],
   "source": []
  },
  {
   "cell_type": "markdown",
   "metadata": {
    "id": "nIv0041tu3MD"
   },
   "source": [
    "##### 결정 경계 시각화"
   ]
  },
  {
   "cell_type": "code",
   "execution_count": null,
   "metadata": {
    "id": "0CPefKSIxB7f"
   },
   "outputs": [],
   "source": []
  },
  {
   "cell_type": "markdown",
   "metadata": {
    "id": "Kc5T4Bhru5cd"
   },
   "source": [
    "##### 하이퍼파리미터를 변경해 보면서 결정 경계의 변화 확인"
   ]
  },
  {
   "cell_type": "code",
   "execution_count": null,
   "metadata": {
    "id": "3QK4mgIaxchX"
   },
   "outputs": [],
   "source": []
  },
  {
   "cell_type": "markdown",
   "metadata": {
    "id": "m0_mrHabjfUk"
   },
   "source": [
    "### 유방암 데이터 학습"
   ]
  },
  {
   "cell_type": "markdown",
   "metadata": {
    "id": "PgT-Bd4Njk2Y"
   },
   "source": [
    "#### 교차 검증"
   ]
  },
  {
   "cell_type": "markdown",
   "metadata": {
    "id": "iq0Q56wpjwYW"
   },
   "source": [
    "##### 전처리 없이 학습"
   ]
  },
  {
   "cell_type": "code",
   "execution_count": null,
   "metadata": {
    "id": "03R3D3hCj0aT"
   },
   "outputs": [],
   "source": []
  },
  {
   "cell_type": "code",
   "execution_count": null,
   "metadata": {
    "id": "m3KtBtgrj_XE"
   },
   "outputs": [],
   "source": []
  },
  {
   "cell_type": "markdown",
   "metadata": {
    "id": "d3k0f8H0jyXm"
   },
   "source": [
    "##### 전처리 후 학습"
   ]
  },
  {
   "cell_type": "code",
   "execution_count": null,
   "metadata": {
    "id": "5WeAS_ZFkPil"
   },
   "outputs": [],
   "source": []
  },
  {
   "cell_type": "code",
   "execution_count": null,
   "metadata": {
    "id": "h2nPgcqtkS3I"
   },
   "outputs": [],
   "source": []
  },
  {
   "cell_type": "markdown",
   "metadata": {
    "id": "1ipuSuf9jo49"
   },
   "source": [
    "#### 학습된 결정 트리 시각화"
   ]
  },
  {
   "cell_type": "code",
   "execution_count": null,
   "metadata": {
    "id": "7a0WWrRHlpyU"
   },
   "outputs": [],
   "source": []
  },
  {
   "cell_type": "markdown",
   "metadata": {
    "id": "5uc_ZCPElmVo"
   },
   "source": [
    "##### 텍스트를 통한 시각화"
   ]
  },
  {
   "cell_type": "code",
   "execution_count": null,
   "metadata": {
    "id": "WdKlZ_3LmEgp"
   },
   "outputs": [],
   "source": []
  },
  {
   "cell_type": "markdown",
   "metadata": {
    "id": "IztQbiqkknh-"
   },
   "source": [
    "##### plot_tree를 사용한 시각화"
   ]
  },
  {
   "cell_type": "code",
   "execution_count": null,
   "metadata": {
    "id": "Obspq9Vblt1X"
   },
   "outputs": [],
   "source": []
  },
  {
   "cell_type": "markdown",
   "metadata": {
    "id": "vqjobQE8lg6u"
   },
   "source": [
    "##### graphviz를 사용한 시각화"
   ]
  },
  {
   "cell_type": "code",
   "execution_count": null,
   "metadata": {
    "id": "WwswKQ7Sl3Ea"
   },
   "outputs": [],
   "source": []
  },
  {
   "cell_type": "markdown",
   "metadata": {
    "id": "a-Hj4tedxje_"
   },
   "source": [
    "#### 시각화"
   ]
  },
  {
   "cell_type": "code",
   "execution_count": null,
   "metadata": {
    "id": "NRtkg7zqoSjy"
   },
   "outputs": [],
   "source": []
  },
  {
   "cell_type": "markdown",
   "metadata": {
    "id": "vpOrrVtfoOSy"
   },
   "source": [
    "##### 결정 경계 시각화"
   ]
  },
  {
   "cell_type": "code",
   "execution_count": null,
   "metadata": {
    "id": "-rs7YoEgoV53"
   },
   "outputs": [],
   "source": []
  },
  {
   "cell_type": "markdown",
   "metadata": {
    "id": "Gq333xtIuKCv"
   },
   "source": [
    "##### 하이퍼파리미터를 변경해 보면서 결정 경계의 변화 확인"
   ]
  },
  {
   "cell_type": "code",
   "execution_count": null,
   "metadata": {
    "id": "rhLe1RZ1uPOj"
   },
   "outputs": [],
   "source": []
  },
  {
   "cell_type": "markdown",
   "metadata": {
    "id": "o1fFfCpT6MRl"
   },
   "source": [
    "## 회귀 - `DecisionTreeRegressor()`"
   ]
  },
  {
   "cell_type": "markdown",
   "metadata": {
    "id": "Cxbymvlnxzs-"
   },
   "source": [
    "### 보스턴 주택 가격 데이터 학습"
   ]
  },
  {
   "cell_type": "markdown",
   "metadata": {
    "id": "jGaVhVYLydAe"
   },
   "source": [
    "#### 교차 검증"
   ]
  },
  {
   "cell_type": "markdown",
   "metadata": {
    "id": "aJxph6Vyyoks"
   },
   "source": [
    "##### 전처리 없이 학습"
   ]
  },
  {
   "cell_type": "code",
   "execution_count": null,
   "metadata": {
    "id": "Aj_fU_sZy0Y6"
   },
   "outputs": [],
   "source": []
  },
  {
   "cell_type": "code",
   "execution_count": null,
   "metadata": {
    "id": "zf7_aTUiysdI"
   },
   "outputs": [],
   "source": []
  },
  {
   "cell_type": "markdown",
   "metadata": {
    "id": "QxKPO6dVyn0B"
   },
   "source": [
    "##### 전처리 후 학습"
   ]
  },
  {
   "cell_type": "code",
   "execution_count": null,
   "metadata": {
    "id": "LeNEXirhzIeb"
   },
   "outputs": [],
   "source": []
  },
  {
   "cell_type": "code",
   "execution_count": null,
   "metadata": {
    "id": "evwtcUeYzOzx"
   },
   "outputs": [],
   "source": []
  },
  {
   "cell_type": "markdown",
   "metadata": {
    "id": "VWVL0545_ZK2"
   },
   "source": [
    "#### 학습된 결정 트리 시각화"
   ]
  },
  {
   "cell_type": "code",
   "execution_count": null,
   "metadata": {
    "id": "iyHX8zrY_oyA"
   },
   "outputs": [],
   "source": []
  },
  {
   "cell_type": "markdown",
   "metadata": {
    "id": "xs1ezt7l_dL3"
   },
   "source": [
    "##### 텍스트를 통한 시각화"
   ]
  },
  {
   "cell_type": "code",
   "execution_count": null,
   "metadata": {
    "id": "FDizXYgGAN1C"
   },
   "outputs": [],
   "source": []
  },
  {
   "cell_type": "markdown",
   "metadata": {
    "id": "IlBrXND2_eDT"
   },
   "source": [
    "##### plot_tree를 사용한 시각화"
   ]
  },
  {
   "cell_type": "code",
   "execution_count": null,
   "metadata": {
    "id": "9QSPZYOE_tTM"
   },
   "outputs": [],
   "source": []
  },
  {
   "cell_type": "markdown",
   "metadata": {
    "id": "MvkK66mV_ddw"
   },
   "source": [
    "##### graphviz를 사용한 시각화"
   ]
  },
  {
   "cell_type": "code",
   "execution_count": null,
   "metadata": {
    "id": "RG4-bBkR_3TT"
   },
   "outputs": [],
   "source": []
  },
  {
   "cell_type": "markdown",
   "metadata": {
    "id": "uXiV9cxZyfH4"
   },
   "source": [
    "#### 시각화"
   ]
  },
  {
   "cell_type": "markdown",
   "metadata": {
    "id": "-hQxhOfaAhyc"
   },
   "source": [
    "##### 회귀식 시각화"
   ]
  },
  {
   "cell_type": "code",
   "execution_count": null,
   "metadata": {
    "id": "pI6d9vgFAreH"
   },
   "outputs": [],
   "source": []
  },
  {
   "cell_type": "markdown",
   "metadata": {
    "id": "8uUdG0ogAmVw"
   },
   "source": [
    "##### 하이퍼파리미터를 변경해 보면서 회귀식 시각화"
   ]
  },
  {
   "cell_type": "code",
   "execution_count": null,
   "metadata": {
    "id": "LvwhocZ1FiLF"
   },
   "outputs": [],
   "source": []
  },
  {
   "cell_type": "markdown",
   "metadata": {
    "id": "xK6cyraMxzNK"
   },
   "source": [
    "### 당뇨병 데이터 학습"
   ]
  },
  {
   "cell_type": "markdown",
   "metadata": {
    "id": "mwAey_sjGByg"
   },
   "source": [
    "#### 교차 검증"
   ]
  },
  {
   "cell_type": "markdown",
   "metadata": {
    "id": "g4yrwcljGIMl"
   },
   "source": [
    "##### 전처리 없이 학습"
   ]
  },
  {
   "cell_type": "code",
   "execution_count": null,
   "metadata": {
    "id": "SUSEIHLXGP2t"
   },
   "outputs": [],
   "source": []
  },
  {
   "cell_type": "code",
   "execution_count": null,
   "metadata": {
    "id": "jZMrd6e8GT5d"
   },
   "outputs": [],
   "source": []
  },
  {
   "cell_type": "markdown",
   "metadata": {
    "id": "is53BwuWGK3S"
   },
   "source": [
    "##### 전처리 후 학습"
   ]
  },
  {
   "cell_type": "code",
   "execution_count": null,
   "metadata": {
    "id": "j9U3jI4bG8an"
   },
   "outputs": [],
   "source": []
  },
  {
   "cell_type": "code",
   "execution_count": null,
   "metadata": {
    "id": "NyzFisTGG-Ra"
   },
   "outputs": [],
   "source": []
  },
  {
   "cell_type": "markdown",
   "metadata": {
    "id": "UusEIpcdGBX8"
   },
   "source": [
    "#### 학습된 결정 트리 시각화"
   ]
  },
  {
   "cell_type": "code",
   "execution_count": null,
   "metadata": {
    "id": "i8XMyUKPIKF5"
   },
   "outputs": [],
   "source": []
  },
  {
   "cell_type": "markdown",
   "metadata": {
    "id": "IJJRs8ojHyvm"
   },
   "source": [
    "##### 텍스트를 통한 시각화"
   ]
  },
  {
   "cell_type": "code",
   "execution_count": null,
   "metadata": {
    "id": "anN3zVgcIZBx"
   },
   "outputs": [],
   "source": []
  },
  {
   "cell_type": "markdown",
   "metadata": {
    "id": "43jYoj9PHzmB"
   },
   "source": [
    "##### plot_tree를 사용한 시각화"
   ]
  },
  {
   "cell_type": "code",
   "execution_count": null,
   "metadata": {
    "id": "epYXvCopIRmE"
   },
   "outputs": [],
   "source": []
  },
  {
   "cell_type": "markdown",
   "metadata": {
    "id": "KVwIgM16HzMt"
   },
   "source": [
    "##### graphviz를 사용한 시각화"
   ]
  },
  {
   "cell_type": "code",
   "execution_count": null,
   "metadata": {
    "id": "vm5zLy_PIXht"
   },
   "outputs": [],
   "source": []
  },
  {
   "cell_type": "markdown",
   "metadata": {
    "id": "t-67ZAldGA0J"
   },
   "source": [
    "#### 시각화"
   ]
  },
  {
   "cell_type": "markdown",
   "metadata": {
    "id": "PePsyMLfIvVx"
   },
   "source": [
    "##### 회귀식 시각화"
   ]
  },
  {
   "cell_type": "code",
   "execution_count": null,
   "metadata": {
    "id": "tQdaEZGYKUB7"
   },
   "outputs": [],
   "source": []
  },
  {
   "cell_type": "markdown",
   "metadata": {
    "id": "ww-B2BQ9Iu1P"
   },
   "source": [
    "##### 하이퍼파리미터를 변경해 보면서 회귀식 시각화"
   ]
  },
  {
   "cell_type": "code",
   "execution_count": null,
   "metadata": {
    "id": "E-btkBlwK1Md"
   },
   "outputs": [],
   "source": []
  }
 ],
 "metadata": {
  "colab": {
   "collapsed_sections": [
    "ESB60z8ZckQ5",
    "0BQEXGQywJf2",
    "5uc_ZCPElmVo",
    "xs1ezt7l_dL3",
    "IJJRs8ojHyvm"
   ],
   "provenance": [],
   "toc_visible": true
  },
  "kernelspec": {
   "display_name": "Python 3 (ipykernel)",
   "language": "python",
   "name": "python3"
  },
  "language_info": {
   "codemirror_mode": {
    "name": "ipython",
    "version": 3
   },
   "file_extension": ".py",
   "mimetype": "text/x-python",
   "name": "python",
   "nbconvert_exporter": "python",
   "pygments_lexer": "ipython3",
   "version": "3.9.16"
  },
  "vscode": {
   "interpreter": {
    "hash": "7c15afef78f50668981ba711ec2661f2a5596a86ec48569938de9a5d0b5f4743"
   }
  }
 },
 "nbformat": 4,
 "nbformat_minor": 1
}
