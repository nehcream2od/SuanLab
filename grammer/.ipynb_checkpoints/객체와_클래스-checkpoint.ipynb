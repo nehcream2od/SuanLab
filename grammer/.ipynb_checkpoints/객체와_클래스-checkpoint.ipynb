{
  "cells": [
    {
      "cell_type": "markdown",
      "metadata": {
        "id": "bg5ZXMV2sn1M"
      },
      "source": [
        "# 객체와 클래스"
      ]
    },
    {
      "cell_type": "markdown",
      "metadata": {
        "id": "Lj_iZPKnCRP0"
      },
      "source": [
        "\n",
        "\n",
        "---\n",
        "\n"
      ]
    },
    {
      "cell_type": "markdown",
      "metadata": {
        "id": "zXbENjlMCrkU"
      },
      "source": [
        "## 객체(Object)\n",
        "\n"
      ]
    },
    {
      "cell_type": "markdown",
      "metadata": {
        "id": "41GeF0a5KMPU"
      },
      "source": [
        "### 객체 지향 프로그래밍(Object Oriented Programming)\n",
        "\n"
      ]
    },
    {
      "cell_type": "markdown",
      "metadata": {
        "id": "qQc_0nwV1YyE"
      },
      "source": [
        "## 클래스(Class)\n",
        "\n"
      ]
    },
    {
      "cell_type": "markdown",
      "metadata": {
        "id": "u91KX7n6K1Qx"
      },
      "source": [
        "### Book 클래스 정의\n",
        "\n",
        "* 클래스 이름: Book\n",
        "* 속성\n",
        "  + 저자: author\n",
        "  + 책 이름: name\n",
        "  + 출판사: publisher\n",
        "  + 발행일: date\n",
        "\n"
      ]
    },
    {
      "cell_type": "code",
      "execution_count": 1,
      "metadata": {
        "id": "VIauKM25w6Aw"
      },
      "outputs": [],
      "source": [
        "class Book(object):\n",
        "    author = ''\n",
        "    title = ''\n",
        "    publisher = ''\n",
        "    date = ''\n",
        "    "
      ]
    },
    {
      "cell_type": "code",
      "execution_count": 3,
      "metadata": {
        "id": "oboUm_0ZmkwC"
      },
      "outputs": [
        {
          "name": "stdout",
          "output_type": "stream",
          "text": [
            "Yunsoo\n",
            "python\n"
          ]
        }
      ],
      "source": [
        "book = Book()\n",
        "book.author = 'Yunsoo'\n",
        "print(book.author)\n",
        "book.title = 'python'\n",
        "print(book.title)"
      ]
    },
    {
      "cell_type": "markdown",
      "metadata": {
        "id": "b0ybpBx4B-NI"
      },
      "source": [
        "### Book 클래스 메소드 정의\n",
        "\n",
        "* 메소드\n",
        "  + 책 정보 출력: `print_info(self)`\n",
        "  + `self`가 있어야만 실제로 인스턴스가 사용할 수 있는 메소드로 선언\n",
        "  + `print_info(self)`에서 `self`는 실제적으로 `book` 인스턴스를 의미\n",
        "  + 메소드 안에서 속성 값을 사용하지 않을 경우에는 `self` 생략 가능"
      ]
    },
    {
      "cell_type": "code",
      "execution_count": 4,
      "metadata": {
        "id": "bvq4rgKACKGh"
      },
      "outputs": [],
      "source": [
        "class Book(object):\n",
        "    author = ''\n",
        "    title = ''\n",
        "    publisher = ''\n",
        "    date = ''\n",
        "    \n",
        "    def print_info(self):\n",
        "        print('Author', self.author)\n",
        "        print('Title', self.title)"
      ]
    },
    {
      "cell_type": "code",
      "execution_count": 5,
      "metadata": {
        "id": "QLYRU__lmoQx"
      },
      "outputs": [
        {
          "name": "stdout",
          "output_type": "stream",
          "text": [
            "Author Yunsoo\n",
            "Title Python\n"
          ]
        }
      ],
      "source": [
        "book = Book()\n",
        "book.author = 'Yunsoo'\n",
        "book.title = 'Python'\n",
        "book.print_info()"
      ]
    },
    {
      "cell_type": "markdown",
      "metadata": {
        "id": "8x-oWtbBxCpE"
      },
      "source": [
        "## 인스턴스 속성(Instance Attribute)\n",
        "\n",
        "* 인스턴스 속성은 객체로부터 인스턴스가 생성된 후에 인스턴스에서 활용하는 속성\n",
        "\n",
        "\n"
      ]
    },
    {
      "cell_type": "markdown",
      "metadata": {
        "id": "GbFr5qM78B41"
      },
      "source": [
        "### Book 인스턴스 속성\n",
        "\n",
        "* `Book` 클래스에서 생성된 인스턴스 `b1`에서 속성을 활용"
      ]
    },
    {
      "cell_type": "code",
      "execution_count": 6,
      "metadata": {
        "id": "A25zZg3vjmk0"
      },
      "outputs": [],
      "source": [
        "class Book(object):\n",
        "    author = ''\n",
        "    title = ''\n",
        "    publisher = ''\n",
        "    date = ''\n",
        "    \n",
        "    def print_info(self):\n",
        "        print('Author', self.author)\n",
        "        print('Title', self.title)\n",
        "        print('Puiblisher', self.publisher)\n",
        "        print('Date', self.date)"
      ]
    },
    {
      "cell_type": "code",
      "execution_count": 7,
      "metadata": {
        "id": "h-Ja0er-oZpe"
      },
      "outputs": [
        {
          "name": "stdout",
          "output_type": "stream",
          "text": [
            "Author Yunsoo\n",
            "Title python\n",
            "Puiblisher colab\n",
            "Date 2020\n"
          ]
        }
      ],
      "source": [
        "b1 = Book()\n",
        "b1.author = 'Yunsoo'\n",
        "b1.title = 'python'\n",
        "b1.publisher = 'colab'\n",
        "b1.date = '2020'\n",
        "b1.print_info()"
      ]
    },
    {
      "cell_type": "markdown",
      "metadata": {
        "id": "QJg6wYdSHKFh"
      },
      "source": [
        "## 클래스 속성(Class Attribute)\n",
        "\n",
        "* 클래스 속성은 클래스 자체에서 사용되는 속성\n",
        "\n",
        "\n"
      ]
    },
    {
      "cell_type": "markdown",
      "metadata": {
        "id": "vCwxB_lyIv5D"
      },
      "source": [
        "### Book 클래스 속성\n",
        "\n",
        "* Book 클래스 자체에서 사용되는 속성"
      ]
    },
    {
      "cell_type": "code",
      "execution_count": null,
      "metadata": {
        "id": "YH4BbYHookXd"
      },
      "outputs": [],
      "source": [
        "class Book(object):\n",
        "    author = ''\n",
        "    title = ''\n",
        "    publisher = ''\n",
        "    date = ''\n",
        "    \n",
        "    def print_info(self):\n",
        "        print('Author', self.author)\n",
        "        print('Title', self.title)\n",
        "        print('Puiblisher', self.publisher)\n",
        "        print('Date', self.date)"
      ]
    },
    {
      "cell_type": "code",
      "execution_count": 8,
      "metadata": {
        "id": "YBLwbRcrogBc"
      },
      "outputs": [
        {
          "name": "stdout",
          "output_type": "stream",
          "text": [
            "Author Yunsoo\n",
            "Title python\n",
            "Puiblisher colab\n",
            "Date 2020\n"
          ]
        }
      ],
      "source": [
        "b1 = Book()\n",
        "Book.author = 'Yunsoo'\n",
        "Book.title = 'python'\n",
        "Book.publisher = 'colab'\n",
        "Book.date = '2020'\n",
        "b1.print_info()"
      ]
    },
    {
      "cell_type": "markdown",
      "metadata": {
        "id": "5rb7_sHfotYO"
      },
      "source": [
        "## 인스턴스 속성와 클래스 속성의 활용\n",
        "\n",
        "* 인스턴스 속성과 클래스 속성을 목적에 맞도록 나누어서 활용\n",
        "\n"
      ]
    },
    {
      "cell_type": "markdown",
      "metadata": {
        "id": "jp55uMrGpYsv"
      },
      "source": [
        "### Book 인스턴스 속성과 클래스 속성\n",
        "\n",
        "* 인스턴스 속성\n",
        "  + 저자: author\n",
        "  + 제목: title\n",
        "  + 출판사: publisher\n",
        "  + 발행일: date\n",
        "* 클래스 속성\n",
        "  + 수량: count"
      ]
    },
    {
      "cell_type": "code",
      "execution_count": 10,
      "metadata": {
        "id": "6FJ2zFwepLrv"
      },
      "outputs": [],
      "source": [
        "class Book(object):\n",
        "    author = ''\n",
        "    title = ''\n",
        "    publisher = ''\n",
        "    date = ''\n",
        "    count = 0\n",
        "    \n",
        "    def print_info(self):\n",
        "        print('Author', self.author)\n",
        "        print('Title', self.title)\n",
        "        print('Puiblisher', self.publisher)\n",
        "        print('Date', self.date)"
      ]
    },
    {
      "cell_type": "code",
      "execution_count": 11,
      "metadata": {
        "id": "QidaPjC2pthz"
      },
      "outputs": [
        {
          "name": "stdout",
          "output_type": "stream",
          "text": [
            "Author Yunsoo\n",
            "Title python\n",
            "Puiblisher colab\n",
            "Date 2020\n",
            "Numbe of Book 1\n"
          ]
        }
      ],
      "source": [
        "b1 = Book()\n",
        "Book.count += 1\n",
        "b1.author = 'Yunsoo'\n",
        "b1.title = 'python'\n",
        "b1.publisher = 'colab'\n",
        "b1.date = '2020'\n",
        "b1.print_info()\n",
        "print('Numbe of Book', Book.count)"
      ]
    },
    {
      "cell_type": "markdown",
      "metadata": {
        "id": "wfmzBAGRBtWi"
      },
      "source": [
        "## 클래스 매직 메소드(Class Masic Methods)\n"
      ]
    },
    {
      "cell_type": "markdown",
      "metadata": {
        "id": "EZwYD92qt4gh"
      },
      "source": [
        "### `__init__()`\n",
        "\n",
        "* `__init__()` 메소드를 이용하여 클래스의 속성들을 초기화"
      ]
    },
    {
      "cell_type": "code",
      "execution_count": 19,
      "metadata": {
        "id": "_nq6-s-qBwio"
      },
      "outputs": [],
      "source": [
        "class Book(object):\n",
        "    count = 0\n",
        "    \n",
        "    def __init__(self, author, title, publisher, date):\n",
        "        self.author = author\n",
        "        self.title = title\n",
        "        self.publisher = publisher\n",
        "        self.date = date\n",
        "        Book.count += 1\n",
        "        \n",
        "    def print_info(self):\n",
        "        print('Author', self.author)\n",
        "        print('Title', self.title)\n",
        "        print('Puiblisher', self.publisher)\n",
        "        print('Date', self.date)\n",
        "        "
      ]
    },
    {
      "cell_type": "code",
      "execution_count": 25,
      "metadata": {
        "id": "oQknTy7Mul4a"
      },
      "outputs": [
        {
          "name": "stdout",
          "output_type": "stream",
          "text": [
            "Author Yunsoo\n",
            "Title Python\n",
            "Puiblisher Colab\n",
            "Date 2020\n",
            "6\n"
          ]
        }
      ],
      "source": [
        "book = Book('Yunsoo', 'Python', 'Colab', '2020')\n",
        "book.print_info()\n",
        "print(book.count)"
      ]
    },
    {
      "cell_type": "markdown",
      "metadata": {
        "id": "gTRPQI5cu_vU"
      },
      "source": [
        "### `__str__()`\n",
        "\n",
        "* `__str__()` 메소드를 이용하여 인스턴스 출력"
      ]
    },
    {
      "cell_type": "code",
      "execution_count": 28,
      "metadata": {
        "id": "QYd5z8z2vIq2"
      },
      "outputs": [],
      "source": [
        "class Book(object):\n",
        "    count = 0\n",
        "    \n",
        "    def __init__(self, author, title, publisher, date):\n",
        "        self.author = author\n",
        "        self.title = title\n",
        "        self.publisher = publisher\n",
        "        self.date = date\n",
        "        Book.count += 1\n",
        "        \n",
        "    def __str__(self):\n",
        "        return ('Author:' +  self.author + \n",
        "                '\\nTitle:' +  self.title +  \n",
        "                '\\nPuiblisher:' + self.publisher +  \n",
        "                '\\nDate:' +  self.date)\n",
        "        "
      ]
    },
    {
      "cell_type": "code",
      "execution_count": 29,
      "metadata": {
        "id": "eECQWpfkvimX"
      },
      "outputs": [
        {
          "name": "stdout",
          "output_type": "stream",
          "text": [
            "Author:Yunsoo\n",
            "Title:Python\n",
            "Puiblisher:Colab\n",
            "Date:2020\n",
            "1\n"
          ]
        }
      ],
      "source": [
        "book = Book('Yunsoo', 'Python', 'Colab', '2020')\n",
        "print(book)\n",
        "print(book.count)"
      ]
    },
    {
      "cell_type": "markdown",
      "metadata": {
        "id": "400E5EtqwBq3"
      },
      "source": [
        "### 매직 메소드 예제\n",
        "\n",
        "* Line 클래스"
      ]
    },
    {
      "cell_type": "code",
      "execution_count": 31,
      "metadata": {
        "id": "XFXm9WwCwcUD"
      },
      "outputs": [],
      "source": [
        "class Line(object):\n",
        "    length = 0\n",
        "    \n",
        "    def __init__(self, length):\n",
        "        self.length = length\n",
        "        print(self.length, '길이의 선 생성')\n",
        "        \n",
        "    def __del__(self):\n",
        "        print(self.length, '길이의 선 제거')\n",
        "    \n",
        "    def __repr__(self):\n",
        "        return str(self.length)\n",
        "    \n",
        "    def __add__(self, other):\n",
        "        return self.length + other.length\n",
        "    \n",
        "    def __lt__(self, other):\n",
        "        return self.length < other.length\n",
        "    \n",
        "    def __le__(self, other):\n",
        "        return self.length <= other.length\n",
        "    \n",
        "    def __gt__(self, other):\n",
        "        return self.length > other.length\n",
        "    \n",
        "    def __ge__(self, other):\n",
        "        return self.length >= other.length\n",
        "    \n",
        "    def __eq__(self, other):\n",
        "        return self.length == other.length\n",
        "    \n",
        "    def __ne__(self, other):\n",
        "        return self.length != other.length"
      ]
    },
    {
      "cell_type": "code",
      "execution_count": 36,
      "metadata": {
        "id": "nFThopZjxPRK"
      },
      "outputs": [
        {
          "name": "stdout",
          "output_type": "stream",
          "text": [
            "10 길이의 선 생성\n",
            "10 길이의 선 제거\n",
            "10\n",
            "20 길이의 선 생성\n",
            "20 길이의 선 제거\n",
            "20\n",
            "선의 합 30\n",
            "10 < 20\n",
            "10 길이의 선 제거\n",
            "20 길이의 선 제거\n"
          ]
        }
      ],
      "source": [
        "l1 = Line(10)\n",
        "print(l1)\n",
        "\n",
        "l2 = Line(20)\n",
        "print(l2)\n",
        "\n",
        "print('선의 합', l1 + l2)\n",
        "if l1 < l2:\n",
        "    print(l1, '<', l2)\n",
        "elif l1 <= l2:\n",
        "    print(l1, '<=', l2)\n",
        "elif l1 > l2:\n",
        "    print(l1, '>', l2)\n",
        "elif l1 >= l2:\n",
        "    print(l1, '>=', l2)\n",
        "elif l1 == l2:\n",
        "    print(l1, '==', l2)\n",
        "elif l1 != l2:\n",
        "    print(l1, '!=', l2)\n",
        "else:\n",
        "    pass\n",
        "\n",
        "del(l1)\n",
        "del(l2)"
      ]
    },
    {
      "cell_type": "markdown",
      "metadata": {
        "id": "7rnSGoFCxvKK"
      },
      "source": [
        "### 가시성 예제\n",
        "\n",
        "* `__items` 속성은 Box 객체 외부에서 보이지 않도록 캡슐화와 정보 은닉이 가능\n",
        "* 외부에서 `__items` 속성에 접근하면 속성 오류 발생"
      ]
    },
    {
      "cell_type": "code",
      "execution_count": 39,
      "metadata": {
        "id": "DTrIbq53x3ZI"
      },
      "outputs": [],
      "source": [
        "class Box(object):\n",
        "    def __init__(self, name):\n",
        "        self.name = name\n",
        "        self.__items = []\n",
        "    \n",
        "    def add_item(self, item):\n",
        "        self.__items.append(item)\n",
        "        print('아이템 추가')\n",
        "        \n",
        "    def get_number_of_items(self):\n",
        "        return len(self.__items)"
      ]
    },
    {
      "cell_type": "code",
      "execution_count": 42,
      "metadata": {
        "id": "AU5wHppgyLbh"
      },
      "outputs": [
        {
          "name": "stdout",
          "output_type": "stream",
          "text": [
            "아이템 추가\n",
            "아이템 추가\n",
            "Box\n",
            "2\n"
          ]
        }
      ],
      "source": [
        "box = Box('Box')\n",
        "box.add_item('item1')\n",
        "box.add_item('item2')\n",
        "print(box.name)\n",
        "print(box.get_number_of_items())\n",
        "# print(box.__items)"
      ]
    },
    {
      "cell_type": "markdown",
      "metadata": {
        "id": "Gid0aLGUBx9D"
      },
      "source": [
        "## 클래스 상속(Class Inheritance)\n"
      ]
    },
    {
      "cell_type": "code",
      "execution_count": 43,
      "metadata": {
        "id": "QFIEB2XP1XsW"
      },
      "outputs": [],
      "source": [
        "class SuperClass(object):\n",
        "    pass\n",
        "\n",
        "class SubClass(SuperClass):\n",
        "    pass"
      ]
    },
    {
      "cell_type": "markdown",
      "metadata": {
        "id": "YILvez-k05pV"
      },
      "source": [
        "### 메소드 오버라이딩(Method Overriding)\n",
        "\n",
        "\n"
      ]
    },
    {
      "cell_type": "code",
      "execution_count": 46,
      "metadata": {
        "id": "np_aylDHzSXs"
      },
      "outputs": [],
      "source": [
        "class SuperClass(object):\n",
        "    def method(self):\n",
        "        pass\n",
        "\n",
        "class SubClass1(SuperClass):\n",
        "    def method(self):\n",
        "        print('method overriding')\n",
        "class SubClass2(SuperClass):\n",
        "    pass"
      ]
    },
    {
      "cell_type": "code",
      "execution_count": 47,
      "metadata": {
        "id": "HCPloTpu2tJf"
      },
      "outputs": [
        {
          "name": "stdout",
          "output_type": "stream",
          "text": [
            "method overriding\n"
          ]
        }
      ],
      "source": [
        "sub1 = SubClass1()\n",
        "sub2 = SubClass2()\n",
        "\n",
        "sub1.method()\n",
        "sub2.method()"
      ]
    },
    {
      "cell_type": "markdown",
      "metadata": {
        "id": "5JcJXHiUyqmt"
      },
      "source": [
        "### 클래스 상속, 메소드 오버라이딩 예제\n",
        "\n",
        "* Vehicle 클래스를 상속받아 Car 클래스와 Truck 클래스 생성\n",
        "* Car 클래스와 Truck 클래스는 up_speed 메소드를 오버라이딩\n",
        "* Car 클래스는 속도가 240 초과되면 240으로 조정\n",
        "* Truck 클래스는 속도가 180 초과되면 180으로 조정"
      ]
    },
    {
      "cell_type": "code",
      "execution_count": 48,
      "metadata": {
        "id": "WAQOF_BcB2ww"
      },
      "outputs": [],
      "source": [
        "class Vehicle(object):\n",
        "    speed = 0\n",
        "    def up_speed(self, value):\n",
        "        self.speed += value\n",
        "        \n",
        "    def down_speed(self, value):\n",
        "        self.speed -= value\n",
        "    \n",
        "    def print_speed(self):\n",
        "        print('speed', self.speed)\n",
        "\n",
        "class Car(Vehicle):\n",
        "    def up_speed(self, value):\n",
        "        self.speed += value\n",
        "        if self.speed > 240: self.speed = 240\n",
        "\n",
        "class Truck(Vehicle):\n",
        "    def up_speed(self, value):\n",
        "        self.speed += value\n",
        "        if self.speed > 180: self.speed = 180\n",
        "\n"
      ]
    },
    {
      "cell_type": "code",
      "execution_count": 50,
      "metadata": {
        "id": "xjlG-ZDM3tXw"
      },
      "outputs": [
        {
          "name": "stdout",
          "output_type": "stream",
          "text": [
            "speed 240\n",
            "speed 180\n"
          ]
        }
      ],
      "source": [
        "car = Car()\n",
        "car.up_speed(300)\n",
        "car.print_speed()\n",
        "\n",
        "truck = Truck()\n",
        "truck.up_speed(300)\n",
        "truck.print_speed()"
      ]
    },
    {
      "cell_type": "code",
      "execution_count": 56,
      "metadata": {},
      "outputs": [
        {
          "name": "stdout",
          "output_type": "stream",
          "text": [
            "3 1 4 2 5 "
          ]
        }
      ],
      "source": [
        "from collections import deque\n",
        "\n",
        "n, m, v = map(int, input().split())\n",
        "graph = [[] for _ in range(n+1)]\n",
        "for i in range(m):\n",
        "    x, y = map(int, input().split())\n",
        "    graph[x].append(y)\n",
        "    graph[y].append(x)\n",
        "visited = [False] * (n+1)  # 정점\n",
        "\n",
        "for i in graph:  # 정점이 작은 것을 먼저 방문 (y 상관없음)\n",
        "    i.sort()\n",
        "\n",
        "def bfs(start):\n",
        "    queue = deque([start])\n",
        "    visited[start] = True\n",
        "\n",
        "    while queue:\n",
        "        now = queue.popleft()\n",
        "        print(now, end=' ')\n",
        "\n",
        "        for new_node in graph[start]:\n",
        "            if visited[new_node] == False:\n",
        "                visited[new_node] = True\n",
        "                queue.append(new_node)\n",
        "\n",
        "\n",
        "visited = [False] * (n+1)\n",
        "bfs(start)"
      ]
    },
    {
      "cell_type": "code",
      "execution_count": 53,
      "metadata": {},
      "outputs": [
        {
          "data": {
            "text/plain": [
              "[[], [2, 3], [1, 5], [1, 4], [3, 5], [2, 4]]"
            ]
          },
          "execution_count": 53,
          "metadata": {},
          "output_type": "execute_result"
        }
      ],
      "source": [
        "graph"
      ]
    },
    {
      "cell_type": "code",
      "execution_count": 55,
      "metadata": {},
      "outputs": [
        {
          "data": {
            "text/plain": [
              "[False, True, False, False, True, False]"
            ]
          },
          "execution_count": 55,
          "metadata": {},
          "output_type": "execute_result"
        }
      ],
      "source": [
        "visited"
      ]
    }
  ],
  "metadata": {
    "colab": {
      "provenance": [],
      "toc_visible": true
    },
    "kernelspec": {
      "display_name": "datascience",
      "language": "python",
      "name": "python3"
    },
    "language_info": {
      "codemirror_mode": {
        "name": "ipython",
        "version": 3
      },
      "file_extension": ".py",
      "mimetype": "text/x-python",
      "name": "python",
      "nbconvert_exporter": "python",
      "pygments_lexer": "ipython3",
      "version": "3.9.16"
    },
    "vscode": {
      "interpreter": {
        "hash": "7c15afef78f50668981ba711ec2661f2a5596a86ec48569938de9a5d0b5f4743"
      }
    }
  },
  "nbformat": 4,
  "nbformat_minor": 0
}
