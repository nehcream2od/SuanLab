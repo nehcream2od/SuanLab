{
 "cells": [
  {
   "cell_type": "markdown",
   "metadata": {
    "id": "S9Db_VsP_m1S"
   },
   "source": [
    "## 오차역전파 (Backpropagation)\n"
   ]
  },
  {
   "cell_type": "markdown",
   "metadata": {
    "id": "8Vdi2PAG_3lW"
   },
   "source": [
    "### 오차역전파 알고리즘\n",
    "- 학습 데이터로 정방향(forward) 연산을 통해 손실함수 값(loss)을 구함\n",
    "\n",
    "- 각 layer별로 역전파학습을 위해 중간값을 저장\n",
    "\n",
    "- 손실함수를 학습 파라미터(가중치, 편향)로 미분하여  \n",
    "  마지막 layer로부터 앞으로 하나씩 연쇄법칙을 이용하여 미분\n",
    "  각 layer를 통과할 때마다 저장된 값을 이용\n",
    "\n",
    "- 오류(error)를 전달하면서 학습 파라미터를 조금씩 갱신\n"
   ]
  },
  {
   "cell_type": "markdown",
   "metadata": {
    "id": "-o545ezeUuSB"
   },
   "source": [
    "### 오차역전파 학습의 특징\n",
    "- 손실함수를 통한 평가를 한 번만 하고, 연쇄법칙을 이용한 미분을 활용하기 때문에  \n",
    "  학습 소요시간이 매우 단축!\n",
    "\n",
    "- 미분을 위한 중간값을 모두 저장하기 때문에 메모리를 많이 사용\n"
   ]
  },
  {
   "cell_type": "markdown",
   "metadata": {
    "id": "CFoTt-ds_w8C"
   },
   "source": [
    "### 신경망 학습에 있어서 미분가능의 중요성\n",
    "- 경사하강법(Gradient Descent)에서 손실 함수(cost function)의 최소값,  \n",
    "  즉, 최적값을 찾기 위한 방법으로 미분을 활용\n",
    "\n",
    "- 미분을 통해 손실 함수의 학습 매개변수(trainable parameter)를 갱신하여  \n",
    "  모델의 가중치의 최적값을 찾는 과정\n",
    "\n",
    "![](https://i.pinimg.com/originals/5d/13/20/5d1320c7b672710834e63b95a7c1037b.png)\n",
    "\n",
    "<sub>출처: https://www.pinterest.co.kr/pin/424816177350692379/</sub>"
   ]
  },
  {
   "cell_type": "markdown",
   "metadata": {
    "id": "ilYRMqLeQf6Z"
   },
   "source": [
    "### 합성함수의 미분 (연쇄법칙, chain rule)\n",
    "\n",
    "## $\\qquad \\frac{d}{dx} [f(g(x))] = f^\\prime(g(x))g^\\prime(x)$  \n",
    " \n",
    "\n",
    "- 여러 개 연속으로 사용가능  \n",
    "  ## $ \\quad \\frac{\\partial f}{\\partial x} = \\frac{\\partial f}{\\partial u} \\times \\frac{\\partial u}{\\partial m} \\times \\frac{\\partial m}{\\partial n} \\times \\ ... \\ \\frac{\\partial l}{\\partial k} \\times \\frac{\\partial k}{\\partial g} \\times \\frac{\\partial g}{\\partial x} $\n",
    "- 각각에 대해 편미분 적용가능\n",
    "\n",
    "![](https://cdn-media-1.freecodecamp.org/images/1*_KMMFvRP5X9kC59brI0ykw.png)\n",
    "<sub>출처: https://www.freecodecamp.org/news/demystifying-gradient-descent-and-backpropagation-via-logistic-regression-based-image-classification-9b5526c2ed46/</sub>\n",
    "\n",
    "- **오차역전파의 직관적 이해**\n",
    "  - 학습을 진행하면서, 즉 손실함수의 최소값(minimum)을 찾아가는 과정에서 가중치 또는 편향의 변화에 따라 얼마나 영향을 받는지 알 수 있음\n",
    "\n"
   ]
  },
  {
   "cell_type": "markdown",
   "metadata": {
    "id": "6NLF8CXiQkuL"
   },
   "source": [
    "#### 합성함수 미분(chain rule) 예제\n",
    "\n",
    "![](https://miro.medium.com/max/1000/1*azqHvbrNsZ8AIZ7H75tbIQ.jpeg)\n",
    "\n",
    "<sub>출처: https://medium.com/spidernitt/breaking-down-neural-networks-an-intuitive-approach-to-backpropagation-3b2ff958794c</sub>\n",
    "\n",
    "  #### $\\quad a=-1, \\ b=3, \\ c=4$,\n",
    "  #### $\\quad x = a + b, \\ y = b + c, \\ f = x * y \\ 일 때$    \n",
    "\n",
    "\n",
    "\n",
    "  ### $\\quad \\begin{matrix}\\frac{\\partial f}{\\partial x} &=& y\\ + \\ x \\ \\frac{\\partial y}{\\partial x} \\\\ &=& (b \\ + \\ c) \\ + \\ (a \\ +\\ b)\\ \\times \\ 0 \\\\  &=& 7 \\end{matrix}$\n",
    "\n",
    "  ### $\\quad \\begin{matrix}\\frac{\\partial f}{\\partial y} &=& x\\ + \\ \\frac{\\partial x}{\\partial y} \\ y \\\\ &=& (a \\ + \\ b) \\ + \\ 0 \\times (b \\ +\\ c) \\\\ &=& 2 \\end{matrix}$\n",
    "\n",
    "   <br>\n",
    "\n",
    "  ### $ \\quad \\begin{matrix} \\frac{\\partial x}{\\partial a} &=& 1 \\ + \\ a \\ \\frac{\\partial b}{\\partial a} \\\\ &=& 1 \\end{matrix} $\n",
    "  ### $ \\quad \\begin{matrix} \\frac{\\partial y}{\\partial c} &=& \\frac{\\partial b}{\\partial c}\\ + 1 \\\\ &=& 1 \\end{matrix} $\n",
    "  \n",
    "  <br>\n",
    "\n",
    "  ### $ \\quad \\begin{matrix} \\frac{\\partial f}{\\partial a} &=& \\frac{\\partial f}{\\partial x} \\times \\frac{\\partial x}{\\partial a} \\\\ &=& y \\times 1 \\\\  &=& 7 \\times 1 = 7 \\\\ &=& 7  \\end{matrix} $\n",
    "    \n",
    "  ### $ \\quad \\begin{matrix} \\frac{\\partial f}{\\partial b} \\\\ &=& \\frac{\\partial x}{\\partial b} \\ y \\ + \\ x \\ \\frac{\\partial y}{\\partial b}  \\\\ &=& 1 \\times 7 + 2 \\times 1  \\\\ &=& 9 \\end{matrix} $\n",
    "  \n",
    "\n",
    "  \n",
    "  "
   ]
  },
  {
   "cell_type": "markdown",
   "metadata": {
    "id": "2PgmdJN0Qtdw"
   },
   "source": [
    "### 덧셈, 곱셈 계층의 역전파\n",
    "- 위 예제를 통해 아래 사항을 알 수 있음\n",
    "\n",
    "  #### 1. $\\quad z = x + y$ 일 때,\n",
    "  ## $\\frac{\\partial z}{\\partial x} = 1, \\frac{\\partial z}{\\partial y} = 1 $\n",
    "\n",
    "  #### 2. $\\quad t = xy$ 일 때,\n",
    "  ## $\\frac{\\partial t}{\\partial x} = y, \\frac{\\partial t}{\\partial y} = x$\n"
   ]
  },
  {
   "cell_type": "code",
   "execution_count": null,
   "metadata": {},
   "outputs": [],
   "source": [
    "from sklearn. n"
   ]
  },
  {
   "cell_type": "code",
   "execution_count": 1,
   "metadata": {
    "id": "hShSxvW5WMqi"
   },
   "outputs": [],
   "source": [
    "class Mul:\n",
    "    def __init__(self):\n",
    "        self.x = None\n",
    "        self.y = None\n",
    "\n",
    "    def forward(self, x, y):\n",
    "        self.x = x\n",
    "        self.y = y\n",
    "        result = x * y\n",
    "        return result\n",
    "\n",
    "    def backward(self, dresult):\n",
    "        dx = dresult * self.y\n",
    "        dy = dresult * self.x\n",
    "        return dx, dy\n"
   ]
  },
  {
   "cell_type": "code",
   "execution_count": 2,
   "metadata": {
    "id": "1bovOx6UQvLP"
   },
   "outputs": [],
   "source": [
    "class Add:\n",
    "    def __init__(self):\n",
    "        self.x = None\n",
    "        self.y = None\n",
    "\n",
    "    def forward(self, x, y):\n",
    "        self.x = x\n",
    "        self.y = y\n",
    "        result = x + y\n",
    "        return result\n",
    "\n",
    "    def backward(self, dresult):\n",
    "        dx = dresult * 1\n",
    "        dy = dresult * 1\n",
    "        return dx, dy\n"
   ]
  },
  {
   "cell_type": "code",
   "execution_count": 3,
   "metadata": {
    "id": "e3RawqlUQwp0"
   },
   "outputs": [],
   "source": [
    "a, b, c = -1, 3, 4\n",
    "x = Add()\n",
    "y = Add()\n",
    "f = Mul()"
   ]
  },
  {
   "cell_type": "code",
   "execution_count": 4,
   "metadata": {
    "id": "soyk-HWiSnwh"
   },
   "outputs": [
    {
     "name": "stdout",
     "output_type": "stream",
     "text": [
      "2\n",
      "7\n",
      "14\n"
     ]
    }
   ],
   "source": [
    "x_result = x.forward(a, b)\n",
    "y_result = y.forward(b, c)\n",
    "\n",
    "print(x_result)\n",
    "print(y_result)\n",
    "print(f.forward(x_result, y_result))"
   ]
  },
  {
   "cell_type": "code",
   "execution_count": 7,
   "metadata": {
    "id": "FhPPrFIqSpq1"
   },
   "outputs": [
    {
     "name": "stdout",
     "output_type": "stream",
     "text": [
      "7 2\n",
      "7\n",
      "9\n",
      "2\n"
     ]
    }
   ],
   "source": [
    "dresult = 1\n",
    "dx_mul, dy_mul = f.backward(dresult)\n",
    "\n",
    "da_add, db_add_1 = x.backward(dx_mul)\n",
    "db_add_2, dc_add = y.backward(dy_mul)\n",
    "\n",
    "print(dx_mul, dy_mul)\n",
    "print(da_add)\n",
    "print(db_add_1 + db_add_2)\n",
    "print(dc_add)"
   ]
  },
  {
   "cell_type": "markdown",
   "metadata": {
    "id": "dMfl0J1uWgiY"
   },
   "source": [
    "![](https://miro.medium.com/max/2000/1*U3mVDYuvnaLhJzIFw_d5qQ.png)\n",
    "<sub>출처: https://medium.com/spidernitt/breaking-down-neural-networks-an-intuitive-approach-to-backpropagation-3b2ff958794c</sub>"
   ]
  },
  {
   "cell_type": "markdown",
   "metadata": {
    "id": "byODNRUF5fbv"
   },
   "source": [
    "### 활성화 함수(Activation)에서의 역전파"
   ]
  },
  {
   "cell_type": "markdown",
   "metadata": {
    "id": "OkRurUgm5hqn"
   },
   "source": [
    "#### 시그모이드(Sigmoid) 함수\n",
    "\n",
    "![](https://media.geeksforgeeks.org/wp-content/uploads/20190911181329/Screenshot-2019-09-11-18.05.46.png)\n",
    "\n",
    "<sub>출처: https://www.geeksforgeeks.org/implement-sigmoid-function-using-numpy/</sub>\n",
    "\n",
    "- 수식 \n",
    "  # $\\quad y = \\frac{1}{1 + e^{-x}} $일 때,\n",
    "\n",
    "  ## $\\quad \\begin{matrix}y' &=& (\\frac{1}{1 + e^{-x}})' \\\\ &=& \\frac{-1}{(1 + e^{-x})^2}\\ \\times \\ (-e^{-x}) \\\\ &=& \\frac{1}{1 + e^{-x}} \\ \\times \\ \\frac{e^{-x}}{1 + e^{-x}} \\\\ &=& \\frac{1}{1 + e^{-x}} \\ \\times \\ (1 - \\frac{1}{1 + e^{-x}}) \\\\ &=& y\\ (1\\ - \\ y)\\end{matrix}$"
   ]
  },
  {
   "cell_type": "code",
   "execution_count": 6,
   "metadata": {
    "id": "DNWIw7ElVhLK"
   },
   "outputs": [],
   "source": [
    "class Sigmoid:\n",
    "    def __init__(self):\n",
    "        self.out = None\n",
    "\n",
    "    def forward(self, x):\n",
    "        out = 1 / (1 + exp(-x))\n",
    "        return out\n",
    "\n",
    "    def backward(self, dout):\n",
    "        dx = dout * (1.0 - self.out) * self.dout\n"
   ]
  },
  {
   "cell_type": "markdown",
   "metadata": {
    "id": "QWZ247xo5mtv"
   },
   "source": [
    "#### ReLU 함수\n",
    "\n",
    "![](https://3qeqpr26caki16dnhd19sv6by6v-wpengine.netdna-ssl.com/wp-content/uploads/2018/10/Line-Plot-of-Rectified-Linear-Activation-for-Negative-and-Positive-Inputs.png)\n",
    "\n",
    "<sub>출처: https://machinelearningmastery.com/rectified-linear-activation-function-for-deep-learning-neural-networks/</sub>\n",
    "\n",
    "\n",
    "- 수식  \n",
    "\n",
    "  ### $\\qquad y= \\begin{cases} x & (x \\ge 0)  \\\\ 0 & (x < 0) \\end{cases}$ 일 때,\n",
    "\n",
    "  <br>\n",
    "\n",
    "  ### $\\qquad \\frac{\\partial y}{\\partial x}= \\begin{cases} 1 & (x \\ge 0)  \\\\ 0 & (x < 0) \\end{cases}$"
   ]
  },
  {
   "cell_type": "code",
   "execution_count": 7,
   "metadata": {
    "id": "hHcPmAzh5nOZ"
   },
   "outputs": [],
   "source": [
    "class ReLU:\n",
    "    def __init__(self):\n",
    "        self.out = None\n",
    "\n",
    "    def forward(self, x):\n",
    "        self.mask = x < 0\n",
    "        out = x.copy()\n",
    "        out[x < 0] = 0\n",
    "        return out\n",
    "\n",
    "    def backward(self, dout):\n",
    "        dout[self.mask] = 0\n",
    "        dx = dout\n",
    "        return dx\n"
   ]
  },
  {
   "cell_type": "markdown",
   "metadata": {
    "id": "MH_kQzedJFfw"
   },
   "source": [
    "### 행렬 연산에 대한 역전파\n",
    "\n",
    "# $\\qquad Y = X \\bullet W + B$"
   ]
  },
  {
   "cell_type": "markdown",
   "metadata": {
    "id": "W-SedVrpJILw"
   },
   "source": [
    "#### 순전파(forward)\n",
    "  \n",
    "  - 형상(shape)을 맞춰줘야함\n",
    "  - 앞서 봤던 곱셈, 덧셈 계층을 합친 형태"
   ]
  },
  {
   "cell_type": "code",
   "execution_count": 8,
   "metadata": {
    "id": "QKIO7EzSJGD1"
   },
   "outputs": [
    {
     "name": "stdout",
     "output_type": "stream",
     "text": [
      "(3,)\n",
      "(3, 2)\n",
      "(2,)\n"
     ]
    }
   ],
   "source": [
    "import numpy as np\n",
    "\n",
    "X = np.random.rand(3)\n",
    "W = np.random.rand(3, 2)\n",
    "B = np.random.rand(2)\n",
    "\n",
    "print(X.shape)\n",
    "print(W.shape)\n",
    "print(B.shape)"
   ]
  },
  {
   "cell_type": "code",
   "execution_count": 9,
   "metadata": {
    "id": "Tqvl76fFJNfU"
   },
   "outputs": [
    {
     "name": "stdout",
     "output_type": "stream",
     "text": [
      "(2,)\n"
     ]
    }
   ],
   "source": [
    "Y = np.dot(X, W) + B\n",
    "print(Y.shape)"
   ]
  },
  {
   "cell_type": "markdown",
   "metadata": {
    "id": "04GHZHAiJUGl"
   },
   "source": [
    "#### 역전파(1)\n",
    "\n",
    "##  $\\  Y = X \\bullet W$\n",
    "- $X :\\ \\ (2,\\ )$\n",
    "\n",
    "- $W :\\ \\ (2,\\ 3)$\n",
    "\n",
    "- $X \\bullet W :\\ \\ (3,\\ )$\n",
    "\n",
    "- $\\frac{\\partial L}{\\partial Y} :\\ \\ (3,\\ )$\n",
    "\n",
    "- $\\frac{\\partial L}{\\partial X} = \\frac{\\partial L}{\\partial Y}\\bullet W^T ,\\ (2,\\ )$\n",
    "\n",
    "- $\\frac{\\partial L}{\\partial W} = X^T \\bullet \\frac{\\partial L}{\\partial Y} ,\\ (2,\\ 3)$\n",
    "\n"
   ]
  },
  {
   "cell_type": "code",
   "execution_count": 10,
   "metadata": {
    "id": "DCruMHCGJSHK"
   },
   "outputs": [
    {
     "name": "stdout",
     "output_type": "stream",
     "text": [
      "X\n",
      "[-0.23442751 -0.72206733]\n",
      "W\n",
      "[[-0.391033    0.32149019 -0.57136943]\n",
      " [-1.80593175 -0.50900601  1.03459522]]\n",
      "Y\n",
      "[ 1.39567321  0.29217046 -0.6131027 ]\n"
     ]
    }
   ],
   "source": [
    "X = np.random.randn(2)\n",
    "W = np.random.randn(2, 3)\n",
    "Y = np.dot(X, W)\n",
    "\n",
    "print(\"X\\n{}\".format(X))\n",
    "print(\"W\\n{}\".format(W))\n",
    "print(\"Y\\n{}\".format(Y))\n"
   ]
  },
  {
   "cell_type": "code",
   "execution_count": 11,
   "metadata": {
    "id": "TEvyFXedJWC7"
   },
   "outputs": [
    {
     "name": "stdout",
     "output_type": "stream",
     "text": [
      "dL_dY\n",
      "[-1.51761032 -2.14494256 -0.04283224]\n",
      "dL_dX\n",
      "[-0.07166926  3.78817528]\n",
      "dL_dW\n",
      "[[0.35576961 0.50283355 0.01004105]\n",
      " [1.09581683 1.54879295 0.03092776]]\n"
     ]
    }
   ],
   "source": [
    "dL_dY = np.random.randn(3)\n",
    "dL_dX = np.dot(dL_dY, W.T)\n",
    "dL_dW = np.dot(X.reshape(-1, 1), dL_dY.reshape(1, -1))\n",
    "\n",
    "print(\"dL_dY\\n{}\".format(dL_dY))\n",
    "print(\"dL_dX\\n{}\".format(dL_dX))\n",
    "print(\"dL_dW\\n{}\".format(dL_dW))\n"
   ]
  },
  {
   "cell_type": "markdown",
   "metadata": {
    "id": "uuOVqySWJauS"
   },
   "source": [
    "#### 역전파(2)\n",
    "\n",
    "## $\\ (2)\\  Y = X \\bullet W + B$\n",
    "- $X, W$는 위와 동일\n",
    "\n",
    "- $B: \\ (3, )$\n",
    "\n",
    "- $\\frac{\\partial L}{\\partial B} = \\frac{\\partial L}{\\partial Y}, \\ (3,\\ )$"
   ]
  },
  {
   "cell_type": "code",
   "execution_count": 12,
   "metadata": {
    "id": "D_Jb9sY8JYGB"
   },
   "outputs": [
    {
     "name": "stdout",
     "output_type": "stream",
     "text": [
      "[ 0.19460719  3.4046792  -1.89300541]\n"
     ]
    }
   ],
   "source": [
    "X = np.random.randn(2)\n",
    "W = np.random.randn(2, 3)\n",
    "B = np.random.randn(3)\n",
    "Y = np.dot(X, W) + B\n",
    "print(Y)\n"
   ]
  },
  {
   "cell_type": "code",
   "execution_count": 13,
   "metadata": {
    "id": "frdvKz8oJcoZ"
   },
   "outputs": [
    {
     "name": "stdout",
     "output_type": "stream",
     "text": [
      "dL_dY\n",
      "[ 2.21233548 -0.5613641  -0.60824735]\n",
      "dL_dX\n",
      "[1.21140224 1.90864567]\n",
      "dL_dW\n",
      "[[ 3.31016834 -0.83993123 -0.91007947]\n",
      " [-2.23487957  0.5670845   0.6144455 ]]\n",
      "dL_dB\n",
      "[ 2.21233548 -0.5613641  -0.60824735]\n"
     ]
    }
   ],
   "source": [
    "dL_dY = np.random.randn(3)\n",
    "dL_dX = np.dot(dL_dY, W.T)\n",
    "dL_dW = np.dot(X.reshape(-1, 1), dL_dY.reshape(1, -1))\n",
    "dL_dB = dL_dY\n",
    "\n",
    "print(\"dL_dY\\n{}\".format(dL_dY))\n",
    "print(\"dL_dX\\n{}\".format(dL_dX))\n",
    "print(\"dL_dW\\n{}\".format(dL_dW))\n",
    "print(\"dL_dB\\n{}\".format(dL_dB))\n"
   ]
  },
  {
   "cell_type": "markdown",
   "metadata": {
    "id": "0FrBSUsRJgFl"
   },
   "source": [
    "#### 배치용 행렬 내적 계층\n",
    "- N개의 데이터에 대해,  \n",
    "# $\\qquad Y = X \\bullet W + B$\n",
    "\n",
    "  - $X : \\quad  (N,\\ 3)$\n",
    "\n",
    "  - $W : \\quad  (3,\\ 2)$\n",
    "\n",
    "  - $B : \\quad  (2,\\ )$\n",
    "  "
   ]
  },
  {
   "cell_type": "code",
   "execution_count": 14,
   "metadata": {
    "id": "AoWx5fDnJd-2"
   },
   "outputs": [
    {
     "name": "stdout",
     "output_type": "stream",
     "text": [
      "(4, 3)\n",
      "(3, 2)\n",
      "(2,)\n",
      "X\n",
      "[[0.22438278 0.53096824 0.38574017]\n",
      " [0.28256197 0.37497114 0.82503975]\n",
      " [0.16163145 0.26934977 0.51464912]\n",
      " [0.87995791 0.74512737 0.67521338]]\n",
      "W\n",
      "[[0.44427255 0.3275227 ]\n",
      " [0.71547745 0.83075951]\n",
      " [0.22690339 0.74021256]]\n",
      "Y\n",
      "[ 0.19460719  3.4046792  -1.89300541]\n"
     ]
    }
   ],
   "source": [
    "X = np.random.rand(4, 3)\n",
    "W = np.random.rand(3, 2)\n",
    "B = np.random.rand(2)\n",
    "\n",
    "print(X.shape)\n",
    "print(W.shape)\n",
    "print(B.shape)\n",
    "\n",
    "print(\"X\\n{}\".format(X))\n",
    "print(\"W\\n{}\".format(W))\n",
    "print(\"Y\\n{}\".format(Y))\n"
   ]
  },
  {
   "cell_type": "code",
   "execution_count": 15,
   "metadata": {
    "id": "EqhSX54BJmPQ"
   },
   "outputs": [
    {
     "name": "stdout",
     "output_type": "stream",
     "text": [
      "(4, 2)\n",
      "Y\n",
      "[[0.86906879 0.96754027]\n",
      " [0.88298237 1.18217426]\n",
      " [0.68325786 0.82506577]\n",
      " [1.3792313  1.57444243]]\n"
     ]
    }
   ],
   "source": [
    "Y = np.dot(X, W) + B\n",
    "\n",
    "print(Y.shape)\n",
    "print(\"Y\\n{}\".format(Y))\n"
   ]
  },
  {
   "cell_type": "code",
   "execution_count": 16,
   "metadata": {
    "id": "_1IOOfhuJqF-"
   },
   "outputs": [
    {
     "name": "stdout",
     "output_type": "stream",
     "text": [
      "dL_dY\n",
      "[[-0.3746253   0.89502433]\n",
      " [ 0.36901383  0.01416156]\n",
      " [ 0.39550306  1.3322131 ]\n",
      " [-0.12463498 -0.39932581]]\n",
      "dL_dX\n",
      "[[ 0.12670505  0.47551402  0.5775045 ]\n",
      " [ 0.16858095  0.27578593  0.09421306]\n",
      " [ 0.61204118  1.38972222  1.07586186]\n",
      " [-0.18616017 -0.42091723 -0.32386608]]\n",
      "dL_dW\n",
      "[[-0.025538    0.06876719]\n",
      " [-0.04688488  0.54182237]\n",
      " [ 0.27933315  0.77292286]]\n",
      "dL_dB\n",
      "[0.26525661 1.84207318]\n"
     ]
    }
   ],
   "source": [
    "dL_dY = np.random.randn(4, 2)\n",
    "dL_dX = np.dot(dL_dY, W.T)\n",
    "dL_dW = np.dot(X.T, dL_dY)\n",
    "dL_dB = np.sum(dL_dY, axis=0)\n",
    "\n",
    "print(\"dL_dY\\n{}\".format(dL_dY))\n",
    "print(\"dL_dX\\n{}\".format(dL_dX))\n",
    "print(\"dL_dW\\n{}\".format(dL_dW))\n",
    "print(\"dL_dB\\n{}\".format(dL_dB))\n"
   ]
  },
  {
   "cell_type": "code",
   "execution_count": 17,
   "metadata": {
    "id": "TOKsN2NHJrqT"
   },
   "outputs": [],
   "source": [
    "class Layer:\n",
    "    def __init__(self):\n",
    "        self.W = np.random.randn(3, 2)\n",
    "        self.b = np.random.randn(2)\n",
    "        self.x = None\n",
    "        self.dW = None\n",
    "        self.db = None\n",
    "\n",
    "    def forward(self, x):\n",
    "        self.x = x\n",
    "        out = np.dot(x, self.W) + self.b\n",
    "        return out\n",
    "\n",
    "    def backward(self, dout):\n",
    "        dx = np.dot(dout, self.W.T)\n",
    "        self.dW = np.dot(self.x.T, dout)\n",
    "        self.db = np.sum(dout, axis=0)\n",
    "        return dx"
   ]
  },
  {
   "cell_type": "code",
   "execution_count": 18,
   "metadata": {
    "id": "YjIYrXGaJtEz"
   },
   "outputs": [],
   "source": [
    "np.random.seed(111)\n",
    "\n",
    "layer = Layer()"
   ]
  },
  {
   "cell_type": "code",
   "execution_count": 19,
   "metadata": {
    "id": "twG43EylJvC-"
   },
   "outputs": [
    {
     "name": "stdout",
     "output_type": "stream",
     "text": [
      "[[-0.60469438 -0.83761226]\n",
      " [-0.7345356  -0.5993055 ]]\n"
     ]
    }
   ],
   "source": [
    "X = np.random.rand(2, 3)\n",
    "Y = layer.forward(X)\n",
    "\n",
    "print(Y)"
   ]
  },
  {
   "cell_type": "code",
   "execution_count": 20,
   "metadata": {
    "id": "CrCDxHw5Jw3S"
   },
   "outputs": [
    {
     "name": "stdout",
     "output_type": "stream",
     "text": [
      "[[ 0.3637152  -0.60728509  0.86104877]\n",
      " [ 0.60252002 -0.88628947  0.85381569]]\n"
     ]
    }
   ],
   "source": [
    "dout = Y\n",
    "dout_dx = layer.backward(dout)\n",
    "\n",
    "print(dout_dx)"
   ]
  },
  {
   "cell_type": "markdown",
   "metadata": {
    "id": "Bz-0zFPpJ3Jz"
   },
   "source": [
    "### MNIST 분류 with 역전파\n"
   ]
  },
  {
   "cell_type": "markdown",
   "metadata": {
    "id": "eW3InPxBJ6qo"
   },
   "source": [
    "#### Modules Import"
   ]
  },
  {
   "cell_type": "code",
   "execution_count": 21,
   "metadata": {
    "id": "ZKtAhkm4J2Z3"
   },
   "outputs": [
    {
     "name": "stderr",
     "output_type": "stream",
     "text": [
      "/opt/homebrew/Caskroom/miniconda/base/envs/datascience/lib/python3.9/site-packages/scipy/__init__.py:146: UserWarning: A NumPy version >=1.16.5 and <1.23.0 is required for this version of SciPy (detected version 1.23.5\n",
      "  warnings.warn(f\"A NumPy version >={np_minversion} and <{np_maxversion}\"\n"
     ]
    }
   ],
   "source": [
    "import numpy as np\n",
    "import matplotlib.pyplot as plt\n",
    "\n",
    "plt.style.use(\"seaborn-v0_8-whitegrid\")\n",
    "from collections import OrderedDict\n",
    "import tensorflow as tf\n"
   ]
  },
  {
   "cell_type": "markdown",
   "metadata": {
    "id": "F1_2_jGMKGiT"
   },
   "source": [
    "#### 데이터 로드"
   ]
  },
  {
   "cell_type": "code",
   "execution_count": 135,
   "metadata": {
    "id": "S3SQq80sJ8mR"
   },
   "outputs": [],
   "source": [
    "np.random.seed(42)\n",
    "mnist = tf.keras.datasets.mnist\n",
    "(X_train, y_train), (X_test, y_test) = mnist.load_data()\n",
    "num_classes = 10\n"
   ]
  },
  {
   "cell_type": "markdown",
   "metadata": {
    "id": "mv_pjKdxKKIy"
   },
   "source": [
    "#### 데이터 전처리"
   ]
  },
  {
   "cell_type": "code",
   "execution_count": 136,
   "metadata": {
    "id": "B95lI86tKIyY"
   },
   "outputs": [],
   "source": [
    "X_train, X_test = X_train.reshape(-1, 28 * 28).astype(np.float32), X_test.reshape(\n",
    "    -1, 28 * 28\n",
    ").astype(np.float32)\n",
    "\n",
    "X_train /= 0.255\n",
    "X_test /= 0.255\n",
    "\n",
    "y_train = np.eye(num_classes)[y_train]\n",
    "y_test = np.eye(num_classes)[y_test]\n"
   ]
  },
  {
   "cell_type": "code",
   "execution_count": 137,
   "metadata": {
    "id": "ar7DZIlMKLjJ"
   },
   "outputs": [
    {
     "name": "stdout",
     "output_type": "stream",
     "text": [
      "(60000, 784)\n",
      "(60000, 10)\n",
      "(10000, 784)\n",
      "(10000, 10)\n"
     ]
    }
   ],
   "source": [
    "print(X_train.shape)\n",
    "print(y_train.shape)\n",
    "print(X_test.shape)\n",
    "print(y_test.shape)"
   ]
  },
  {
   "cell_type": "markdown",
   "metadata": {
    "id": "Oye4pC82KPbg"
   },
   "source": [
    "#### Hyper Parameters"
   ]
  },
  {
   "cell_type": "code",
   "execution_count": 138,
   "metadata": {
    "id": "rFeXORJjKM7s"
   },
   "outputs": [],
   "source": [
    "epochs = 1000\n",
    "learning_rate = 1e-3\n",
    "batch_size = 100\n",
    "train_size = X_train.shape[0]"
   ]
  },
  {
   "cell_type": "markdown",
   "metadata": {
    "id": "cIdzuyRDKSm0"
   },
   "source": [
    "#### Util Functions"
   ]
  },
  {
   "cell_type": "code",
   "execution_count": 139,
   "metadata": {
    "id": "8E2_fN1dKRzv"
   },
   "outputs": [],
   "source": [
    "def softmax(x):\n",
    "    if x.ndim == 2:\n",
    "        x = x.T\n",
    "        x = x - np.max(x, axis=0)\n",
    "        y = np.exp(x) / np.sum(np.exp(x), axis=0)\n",
    "        return y.T\n",
    "\n",
    "    x = x - np.max(x)\n",
    "    return np.exp(x) / np.sum(np.exp(x))\n",
    "    return np.exp(x) / np.sum(np.exp(x), axis=1, keepdims=True)\n",
    "\n",
    "\n",
    "def mean_squared_error(pred_y, true_y):\n",
    "    return np.mean(np.square(pred_y - true_y))\n",
    "\n",
    "\n",
    "def cross_entropy_error(pred_y, true_y):\n",
    "    if pred_y.ndim == 1:\n",
    "        true_y = true_y.reshape(1, true_y.size)\n",
    "        pred_y = pred_y.reshape(1, pred_y.size)\n",
    "\n",
    "    if true_y.size == pred_y.size:\n",
    "        true_y = true_y.argmax(axis=1)\n",
    "\n",
    "    batch_size = pred_y.shape[0]\n",
    "    return (\n",
    "        -np.mean(\n",
    "            np.log(pred_y[np.arange(batch_size), true_y[np.arange(batch_size)]]) + 1e-7\n",
    "        )\n",
    "        / batch_size\n",
    "    )\n",
    "\n",
    "\n",
    "def softmax_loss(X, true_y):\n",
    "    pred_y = softmax(X)\n",
    "    return cross_entropy_error(pred_y, true_y)\n"
   ]
  },
  {
   "cell_type": "markdown",
   "metadata": {
    "id": "SBvWUNh-KY2R"
   },
   "source": [
    "#### Util Classes"
   ]
  },
  {
   "cell_type": "markdown",
   "metadata": {
    "id": "rc0sLXWJs8Dq"
   },
   "source": [
    "##### ReLU"
   ]
  },
  {
   "cell_type": "code",
   "execution_count": 140,
   "metadata": {
    "id": "ej2m6Robs-uJ"
   },
   "outputs": [],
   "source": [
    "class ReLU:\n",
    "    def __init__(self):\n",
    "        self.out = None\n",
    "\n",
    "    def forward(self, x):\n",
    "        self.mask = x < 0\n",
    "        out = x.copy()\n",
    "        out[x < 0] = 0\n",
    "        return out\n",
    "\n",
    "    def backward(self, dout):\n",
    "        dout[self.mask] = 0\n",
    "        dx = dout\n",
    "        return dx\n"
   ]
  },
  {
   "cell_type": "markdown",
   "metadata": {
    "id": "RucLfG0EtYcf"
   },
   "source": [
    "##### Sigmoid"
   ]
  },
  {
   "cell_type": "code",
   "execution_count": 141,
   "metadata": {
    "id": "TWoPmtpNtZ__"
   },
   "outputs": [],
   "source": [
    "class Sigmoid:\n",
    "    def __init__(self):\n",
    "        self.out = None\n",
    "\n",
    "    def forward(self, x):\n",
    "        out = 1 / (1 + np.exp(-x))\n",
    "        return out\n",
    "\n",
    "    def backward(self, dout):\n",
    "        dx = dout * (1.0 - self.out) * self.out\n"
   ]
  },
  {
   "cell_type": "markdown",
   "metadata": {
    "id": "IZZeNtd-tuM5"
   },
   "source": [
    "##### Layer"
   ]
  },
  {
   "cell_type": "code",
   "execution_count": 142,
   "metadata": {
    "id": "NEcCZ4bFtzgq"
   },
   "outputs": [],
   "source": [
    "class Layer:\n",
    "    def __init__(self, W, b):\n",
    "        self.W = W\n",
    "        self.b = b\n",
    "\n",
    "        self.x = None\n",
    "        self.origin_x_shape = None\n",
    "\n",
    "        self.dL_dW = None\n",
    "        self.dL_db = None\n",
    "\n",
    "    def forward(self, x):\n",
    "        self.origin_x_shape = x.shape\n",
    "\n",
    "        x = x.reshape(x.shape[0], -1)\n",
    "        self.x = x\n",
    "        out = np.dot(self.x, self.W) + self.b\n",
    "\n",
    "        return out\n",
    "\n",
    "    def backward(self, dout):\n",
    "        dx = np.dot(dout, self.W.T)\n",
    "        self.dL_dW = np.dot(self.x.T, dout)\n",
    "        self.dL_db = np.sum(dout, axis=0)\n",
    "        dx = dx.reshape(*self.origin_x_shape)\n",
    "        return dx"
   ]
  },
  {
   "cell_type": "markdown",
   "metadata": {
    "id": "s1Yqp7kVvOoD"
   },
   "source": [
    "#### Softmax"
   ]
  },
  {
   "cell_type": "code",
   "execution_count": 143,
   "metadata": {
    "id": "0RXBVEMdvP9r"
   },
   "outputs": [],
   "source": [
    "class Softmax:\n",
    "    def __init__(self):\n",
    "        self.loss = None\n",
    "        self.y = None\n",
    "        self.t = None\n",
    "\n",
    "    def forward(self, x, t):\n",
    "        self.t = t\n",
    "        self.y = softmax(x)\n",
    "        self.loss = cross_entropy_error(self.y, self.t)\n",
    "        return self.loss\n",
    "\n",
    "    def backward(self, dout=1):\n",
    "        batch_size = self.t.shape[0]\n",
    "\n",
    "        if self.t.size == self.y.size:\n",
    "            dx = (self.y - self.t) / batch_size\n",
    "        else:\n",
    "            dx = self.y.copy()\n",
    "            dx[np.arange(batch_size), self.t] -= 1\n",
    "            dx = dx / batch_size\n",
    "        return dx"
   ]
  },
  {
   "cell_type": "code",
   "execution_count": 144,
   "metadata": {
    "id": "sX4I-bKfuRaq"
   },
   "outputs": [],
   "source": [
    "class MyModel:\n",
    "    def __init__(self, input_size, hidden_size_list, output_size, activation=\"relu\"):\n",
    "        self.input_size = input_size\n",
    "        self.output_size = output_size\n",
    "        self.hidden_size_list = hidden_size_list\n",
    "        self.hidden_layer_num = len(hidden_size_list)\n",
    "        self.params = {}\n",
    "\n",
    "        self.__init_weights(activation)\n",
    "\n",
    "        activation_layer = {\"sigmoid\": Sigmoid, \"relu\": ReLU}\n",
    "        self.layers = OrderedDict()\n",
    "        for idx in range(1, self.hidden_layer_num + 1):\n",
    "            self.layers[\"Layer\" + str(idx)] = Layer(\n",
    "                self.params[\"W\" + str(idx)], self.params[\"b\" + str(idx)]\n",
    "            )\n",
    "            self.layers[\"Activation_function\" + str(idx)] = activation_layer[\n",
    "                activation\n",
    "            ]()\n",
    "\n",
    "        idx = self.hidden_layer_num + 1\n",
    "\n",
    "        self.layers[\"Layer\" + str(idx)] = Layer(\n",
    "            self.params[\"W\" + str(idx)], self.params[\"b\" + str(idx)]\n",
    "        )\n",
    "\n",
    "        self.last_layer = Softmax()\n",
    "\n",
    "    def __init_weights(self, activation):\n",
    "        weight_std = None\n",
    "        all_size_list = [self.input_size] + self.hidden_size_list + [self.output_size]\n",
    "        for idx in range(1, len(all_size_list)):\n",
    "            if activation.lower() == \"relu\":\n",
    "                weight_std = np.sqrt(2.0 / self.input_size)\n",
    "            elif activation.lower() == \"sigmoid\":\n",
    "                weight_std = np.sqrt(1.0 / self.input_size)\n",
    "\n",
    "            self.params[\"W\" + str(idx)] = weight_std * np.random.randn(\n",
    "                all_size_list[idx - 1], all_size_list[idx]\n",
    "            )\n",
    "            self.params[\"b\" + str(idx)] = np.random.randn(all_size_list[idx])\n",
    "\n",
    "    def predict(self, x):\n",
    "        for layer in self.layers.values():\n",
    "            x = layer.forward(x)\n",
    "        return x\n",
    "\n",
    "    def loss(self, x, true_y):\n",
    "        pred_y = self.predict(x)\n",
    "\n",
    "        return self.last_layer.forward(pred_y, true_y)\n",
    "\n",
    "    def accuracy(self, x, true_y):\n",
    "        pred_y = self.predict(x)\n",
    "        pred_y = np.argmax(pred_y, axis=1)\n",
    "\n",
    "        if true_y.ndim != 1:\n",
    "            true_y = np.argmax(true_y, axis=1)\n",
    "        accuracy = np.sum(pred_y == true_y) / float(x.shape[0])\n",
    "        return accuracy\n",
    "\n",
    "    def gradient(self, x, t):\n",
    "        self.loss(x, t)\n",
    "\n",
    "        dout = 1\n",
    "        dout = self.last_layer.backward(dout)\n",
    "\n",
    "        layers = list(self.layers.values())\n",
    "        layers.reverse()\n",
    "        for layer in layers:\n",
    "            dout = layer.backward(dout)\n",
    "\n",
    "        grads = {}\n",
    "        for idx in range(1, self.hidden_layer_num + 2):\n",
    "            grads[\"W\" + str(idx)] = self.layers[\"Layer\" + str(idx)].dL_dW\n",
    "            grads[\"b\" + str(idx)] = self.layers[\"Layer\" + str(idx)].dL_db\n",
    "        return grads\n"
   ]
  },
  {
   "cell_type": "markdown",
   "metadata": {
    "id": "LwyNo3TsyDZR"
   },
   "source": [
    "#### 모델 생성 및 학습"
   ]
  },
  {
   "cell_type": "code",
   "execution_count": 145,
   "metadata": {
    "id": "Du5naLufxMvv"
   },
   "outputs": [],
   "source": [
    "model = MyModel(28 * 28, [100, 64, 32], 10, activation=\"relu\")"
   ]
  },
  {
   "cell_type": "code",
   "execution_count": 146,
   "metadata": {
    "id": "Rb0HhW9x0mrN"
   },
   "outputs": [],
   "source": [
    "train_lost_list = []\n",
    "train_acc_list = []\n",
    "test_acc_list = []\n"
   ]
  },
  {
   "cell_type": "code",
   "execution_count": 147,
   "metadata": {
    "id": "VV5PciwAxM6s"
   },
   "outputs": [
    {
     "name": "stdout",
     "output_type": "stream",
     "text": [
      "Epoch: 1 Train Accuracy: 0.13 Test Accuracy: 0.14\n",
      "Epoch: 51 Train Accuracy: 0.62 Test Accuracy: 0.64\n",
      "Epoch: 101 Train Accuracy: 0.71 Test Accuracy: 0.72\n",
      "Epoch: 151 Train Accuracy: 0.76 Test Accuracy: 0.77\n",
      "Epoch: 201 Train Accuracy: 0.79 Test Accuracy: 0.80\n",
      "Epoch: 251 Train Accuracy: 0.80 Test Accuracy: 0.81\n",
      "Epoch: 301 Train Accuracy: 0.82 Test Accuracy: 0.83\n",
      "Epoch: 351 Train Accuracy: 0.83 Test Accuracy: 0.84\n",
      "Epoch: 401 Train Accuracy: 0.84 Test Accuracy: 0.85\n",
      "Epoch: 451 Train Accuracy: 0.85 Test Accuracy: 0.85\n",
      "Epoch: 501 Train Accuracy: 0.86 Test Accuracy: 0.86\n",
      "Epoch: 551 Train Accuracy: 0.86 Test Accuracy: 0.86\n",
      "Epoch: 601 Train Accuracy: 0.87 Test Accuracy: 0.87\n",
      "Epoch: 651 Train Accuracy: 0.87 Test Accuracy: 0.87\n",
      "Epoch: 701 Train Accuracy: 0.87 Test Accuracy: 0.87\n",
      "Epoch: 751 Train Accuracy: 0.88 Test Accuracy: 0.88\n",
      "Epoch: 801 Train Accuracy: 0.88 Test Accuracy: 0.88\n",
      "Epoch: 851 Train Accuracy: 0.88 Test Accuracy: 0.88\n",
      "Epoch: 901 Train Accuracy: 0.89 Test Accuracy: 0.89\n",
      "Epoch: 951 Train Accuracy: 0.89 Test Accuracy: 0.89\n"
     ]
    }
   ],
   "source": [
    "for epoch in range(epochs):\n",
    "    batch_mask = np.random.choice(train_size, batch_size)\n",
    "    x_batch = X_train[batch_mask]\n",
    "    y_batch = y_train[batch_mask]\n",
    "\n",
    "    grad = model.gradient(x_batch, y_batch)\n",
    "\n",
    "    for key in model.params.keys():\n",
    "        model.params[key] -= learning_rate * grad[key]\n",
    "\n",
    "    loss = model.loss(x_batch, y_batch)\n",
    "    train_lost_list.append(loss)\n",
    "\n",
    "    if epoch % 50 == 0:\n",
    "        train_acc = model.accuracy(X_train, y_train)\n",
    "        test_acc = model.accuracy(X_test, y_test)\n",
    "        train_acc_list.append(train_acc)\n",
    "        test_acc_list.append(test_acc)\n",
    "        print(\n",
    "            f\"Epoch: {epoch + 1} Train Accuracy: {train_acc:.2f} Test Accuracy: {test_acc:.2f}\"\n",
    "        )\n"
   ]
  },
  {
   "cell_type": "code",
   "execution_count": 148,
   "metadata": {},
   "outputs": [
    {
     "data": {
      "text/plain": [
       "{'W1': array([[ 0.02508785, -0.0069834 ,  0.03271321, ...,  0.01318528,\n",
       "          0.00025827, -0.01184844],\n",
       "        [-0.07148702, -0.0212458 , -0.0173097 , ...,  0.00776429,\n",
       "          0.00293998, -0.05772872],\n",
       "        [ 0.01807099,  0.0283239 ,  0.05470235, ...,  0.01552097,\n",
       "          0.04105574,  0.03180106],\n",
       "        ...,\n",
       "        [ 0.05401468, -0.00202092, -0.05087976, ..., -0.03479323,\n",
       "          0.02310204,  0.07023103],\n",
       "        [ 0.03119555, -0.04362645,  0.03101997, ...,  0.04102392,\n",
       "         -0.0321798 ,  0.04195167],\n",
       "        [ 0.06480688,  0.01539501,  0.02188217, ...,  0.0205104 ,\n",
       "         -0.00721685,  0.09803838]]),\n",
       " 'b1': array([-0.00932938, -1.05858811, -0.03443521, -1.34425762, -1.23381831,\n",
       "         0.24164396, -1.32587764, -0.61663245, -1.16857995,  0.14029183,\n",
       "        -0.71183808,  0.53211302,  0.45133199, -1.30435484,  0.92085465,\n",
       "        -0.17156631, -1.22450551,  0.37291647,  1.76068778, -0.19642116,\n",
       "        -1.64816245,  0.92283241,  1.57541118, -1.08022151, -0.79570811,\n",
       "         0.03545442, -1.93397605,  2.08168696, -0.05079845,  0.04125667,\n",
       "         0.35738622, -0.25830428, -0.51536588, -0.9414413 , -1.1782233 ,\n",
       "         0.40649064,  1.35263083,  0.94995643, -0.28911901, -0.19258269,\n",
       "         1.61828428, -0.79871067, -1.668496  ,  0.25148183,  0.85250503,\n",
       "        -2.48802585,  0.3982725 , -1.12833884, -1.41853217, -0.28916756,\n",
       "        -1.15483481, -1.7700016 ,  0.10825308, -0.04431569, -1.71798672,\n",
       "        -1.40697277,  0.46499554,  0.52849733, -2.64614595, -1.26353336,\n",
       "        -0.08263568,  0.42313957,  0.41081094,  0.602966  , -0.7203886 ,\n",
       "         0.17789493, -0.39385228, -0.56047181, -1.51155618,  0.29735228,\n",
       "        -1.64922345, -1.17051296,  0.68648713, -0.16594032,  1.0515209 ,\n",
       "        -0.33649329, -0.55550109,  1.14697751, -0.40022311,  0.28124942,\n",
       "        -0.16233791,  0.12020409, -0.22140472,  0.87794898,  0.06809298,\n",
       "        -0.33219762,  0.25404471, -1.54797228,  1.01266534, -1.50651634,\n",
       "        -0.66374015, -0.45252369,  0.24930809,  1.6202487 ,  1.0312564 ,\n",
       "        -1.47226024, -0.88585125, -1.3995006 , -1.2999345 , -0.59009703]),\n",
       " 'W2': array([[ 7.01156874e-02, -1.22090948e-02, -4.73658196e-03, ...,\n",
       "         -5.93371895e-02,  2.49736867e-02,  1.94934677e-02],\n",
       "        [-2.07212828e-02,  2.01987398e-02, -5.18185986e-02, ...,\n",
       "         -4.51858235e-03,  7.97266174e-02,  7.24397810e-02],\n",
       "        [ 1.12515083e-02, -5.44951775e-03, -1.08029062e-02, ...,\n",
       "         -1.05577542e-01, -9.62590360e-03, -7.81837588e-02],\n",
       "        ...,\n",
       "        [ 2.14043350e-02, -5.92756607e-02,  1.65383934e-02, ...,\n",
       "          4.97340193e-02,  2.68727767e-02,  5.82812501e-02],\n",
       "        [ 6.99412350e-03, -3.38512002e-02,  7.14152909e-02, ...,\n",
       "          6.04019136e-02,  3.33869204e-02,  2.45530149e-02],\n",
       "        [ 2.94616374e-02,  7.00516168e-05, -2.37789184e-02, ...,\n",
       "          2.27475936e-02, -2.05338914e-02,  7.00181284e-03]]),\n",
       " 'b2': array([ 1.53134798,  0.45559151, -0.051209  , -0.2206552 ,  1.32078516,\n",
       "         0.39133371,  0.75792473, -0.57990047, -1.32938535,  1.28312518,\n",
       "         1.06580047, -1.05752506,  0.83725554,  1.3689029 , -0.38878414,\n",
       "        -0.04546908,  1.91357359,  1.26231137, -0.73296426, -0.64154537,\n",
       "        -0.23066158,  0.2624648 ,  0.52966679, -1.25130506, -0.60838545,\n",
       "        -1.86968488,  0.76242171,  0.0532056 , -0.21983836, -0.42833286,\n",
       "        -0.15924722,  0.40812588, -1.19028861, -0.73565327, -1.0177271 ,\n",
       "        -2.57144383,  1.78069347,  0.67916128, -0.81206382,  0.23851736,\n",
       "        -1.16488993,  0.50093984,  2.40176096,  0.95324085, -1.98075612,\n",
       "        -1.53465785, -1.48662435, -0.41892012, -0.06648368,  1.41147507,\n",
       "        -1.35732236,  0.02223907, -2.63802624, -1.0291831 , -1.34105153,\n",
       "        -2.14047665,  0.75868562, -0.65326893,  0.17847191, -1.38400733,\n",
       "         1.17593342, -0.9534065 ,  1.11172084,  1.07175207]),\n",
       " 'W3': array([[ 0.00940628,  0.02549625, -0.05551762, ..., -0.0091832 ,\n",
       "         -0.00126402,  0.00927579],\n",
       "        [ 0.05004064, -0.0316682 ,  0.05465316, ..., -0.0488436 ,\n",
       "          0.0390085 ,  0.01667513],\n",
       "        [-0.11929645,  0.05688367,  0.00523728, ..., -0.01932954,\n",
       "          0.05374117, -0.09457287],\n",
       "        ...,\n",
       "        [-0.09804728,  0.04133433, -0.03869322, ..., -0.04965919,\n",
       "          0.01822671,  0.01961156],\n",
       "        [ 0.02410152, -0.02536505,  0.12803474, ..., -0.01635987,\n",
       "          0.01826561, -0.09612711],\n",
       "        [ 0.04675311, -0.02937483,  0.07357228, ...,  0.01633787,\n",
       "         -0.02194442,  0.04035372]]),\n",
       " 'b3': array([ 0.91456389,  0.60127943,  0.24316554,  3.70530843, -1.41029242,\n",
       "        -0.28396969,  0.00860112,  1.27258451, -0.25755961,  1.14989548,\n",
       "        -0.56166953,  0.4740291 ,  0.8855275 , -0.59659932,  0.79261746,\n",
       "         1.45745097, -0.07473378, -0.95963266, -0.28319061, -0.06255592,\n",
       "         0.98707987, -0.8700786 ,  0.66936272,  0.58706513,  0.50319175,\n",
       "         1.23478886,  0.29197294, -0.53251204, -0.03488793,  0.07050604,\n",
       "        -0.47645118, -1.43479556]),\n",
       " 'W4': array([[-1.33308550e-02,  4.49289821e-03,  1.23245699e-02,\n",
       "          2.21414205e-02, -4.88795333e-02, -1.00227784e-01,\n",
       "         -3.07892062e-02, -5.59249923e-02,  2.14237560e-03,\n",
       "         -5.32278549e-02],\n",
       "        [ 2.52100886e-03, -4.33486259e-03, -3.13258615e-03,\n",
       "         -2.21137168e-03, -6.56790370e-02, -6.05230898e-02,\n",
       "         -7.56226653e-02,  7.78981542e-02, -2.15736960e-02,\n",
       "          2.94820951e-02],\n",
       "        [-2.00324073e-02,  6.14251061e-02, -2.72370220e-02,\n",
       "          9.12083716e-04,  3.13677665e-02, -5.48900089e-02,\n",
       "         -2.77882908e-02,  2.29846371e-02, -3.06152428e-02,\n",
       "         -2.76336794e-02],\n",
       "        [ 1.84840007e-02,  3.52962130e-02, -2.17898259e-04,\n",
       "          2.04938481e-02,  1.47540529e-02,  4.18378471e-02,\n",
       "          1.95206640e-02,  1.28043328e-02, -1.69188203e-02,\n",
       "         -2.03217370e-02],\n",
       "        [ 6.23992693e-02,  6.72100099e-02,  1.49486872e-02,\n",
       "         -1.42277768e-02,  3.45824426e-02, -4.15626526e-02,\n",
       "         -3.21688870e-02, -6.00314986e-02,  2.89438100e-02,\n",
       "         -8.13686649e-02],\n",
       "        [ 4.12421465e-02,  9.28710257e-02, -2.01073472e-03,\n",
       "         -4.74942872e-02, -2.65870427e-02, -4.69931760e-02,\n",
       "         -3.51111925e-02, -1.92187550e-02, -4.76801052e-02,\n",
       "         -1.34107489e-02],\n",
       "        [-1.28345050e-01, -5.57278688e-02,  5.51161689e-03,\n",
       "          3.02311555e-02,  2.72853495e-02, -2.33837394e-02,\n",
       "          5.82646586e-02,  5.73960129e-02, -4.38719217e-02,\n",
       "          5.78182185e-04],\n",
       "        [ 1.02738573e-01, -3.83757240e-02,  2.24932912e-02,\n",
       "          2.86891492e-02,  3.05009104e-02,  8.28274029e-02,\n",
       "          6.06313842e-02, -5.77939856e-03,  3.67053917e-02,\n",
       "          3.51595269e-02],\n",
       "        [-7.93796460e-03, -9.87948978e-02, -6.17215951e-02,\n",
       "         -7.27001018e-02, -2.58418068e-02, -6.12432469e-02,\n",
       "         -1.93017579e-02,  1.00125463e-01,  2.22373497e-02,\n",
       "          2.10574808e-02],\n",
       "        [ 5.71733214e-02, -6.48838708e-02, -4.70313105e-02,\n",
       "          1.60950224e-03, -3.35088860e-02, -1.63849602e-02,\n",
       "          3.14478787e-02,  4.71841898e-02,  2.58536807e-02,\n",
       "          6.01566970e-02],\n",
       "        [-1.30628121e-01,  8.91956425e-02,  4.10070068e-02,\n",
       "         -3.01387968e-03, -6.90858614e-02, -8.21333151e-03,\n",
       "         -4.25129124e-02,  5.38686992e-02,  3.24170166e-02,\n",
       "         -3.32174990e-02],\n",
       "        [-6.98056040e-02, -1.09863535e-02,  5.15213147e-02,\n",
       "          1.92127022e-02, -6.44122179e-02, -1.42831401e-02,\n",
       "          5.59080297e-02, -6.93706685e-03, -7.20967225e-03,\n",
       "          8.02757960e-02],\n",
       "        [-4.96201694e-02,  3.79729664e-02, -1.30341580e-02,\n",
       "          3.23225433e-03,  2.25602834e-02,  5.50458094e-03,\n",
       "          2.57557813e-02,  1.28890687e-03,  2.02813550e-02,\n",
       "         -1.76211492e-03],\n",
       "        [-2.84797342e-02, -6.19060399e-02,  3.28836652e-02,\n",
       "          9.31027749e-03, -2.38919998e-02, -6.62836342e-02,\n",
       "         -2.32545834e-02, -9.51406378e-02,  4.01852027e-02,\n",
       "         -1.62308993e-02],\n",
       "        [-3.33890731e-03, -1.66951566e-02,  7.16289449e-02,\n",
       "          4.02493072e-02,  5.72778980e-03, -8.79149312e-03,\n",
       "         -3.06522648e-02, -1.87990965e-03,  2.01539857e-02,\n",
       "          3.30741121e-03],\n",
       "        [-2.93796608e-02,  6.35817089e-02, -4.36144512e-02,\n",
       "          2.08769345e-05,  3.46967683e-02,  3.06533721e-02,\n",
       "         -1.23160946e-03,  4.14313307e-02,  7.01802597e-02,\n",
       "          2.20245194e-02],\n",
       "        [-4.56622174e-02, -4.40505757e-02, -6.82048219e-02,\n",
       "         -5.55684541e-02, -4.41971660e-02, -5.47375173e-02,\n",
       "          3.59520817e-02, -1.32949722e-02, -7.66046242e-02,\n",
       "         -2.11958160e-02],\n",
       "        [ 1.29806926e-02, -4.66294414e-03, -1.68282373e-02,\n",
       "         -7.92250936e-02,  4.03642227e-02, -1.24350821e-02,\n",
       "         -6.62144612e-02, -1.44822055e-02, -3.37361529e-02,\n",
       "          8.61355321e-03],\n",
       "        [ 1.26744738e-01, -3.77408543e-02,  3.43179403e-02,\n",
       "         -1.59011735e-02, -1.66368109e-02,  6.25435346e-02,\n",
       "          1.21998526e-02,  8.14344265e-02, -2.11402187e-03,\n",
       "          6.82803945e-02],\n",
       "        [-1.56337983e-02, -3.39968672e-02,  3.32234852e-02,\n",
       "          3.34479854e-03, -6.71077363e-02, -1.62850193e-02,\n",
       "         -5.18001501e-02,  3.54633499e-02, -2.68984186e-02,\n",
       "          9.63074461e-03],\n",
       "        [-6.66589545e-02,  5.40132832e-02,  5.10047178e-03,\n",
       "          8.52351364e-02,  1.62370396e-02,  8.08440598e-04,\n",
       "         -4.51271721e-02, -3.26995635e-02, -7.59574812e-03,\n",
       "         -4.14168855e-02],\n",
       "        [-4.57469449e-02,  6.88938685e-02, -4.59998643e-02,\n",
       "         -3.02929671e-02,  1.32644428e-02, -2.53297623e-02,\n",
       "         -1.27306956e-02,  1.35560554e-02, -2.28190874e-02,\n",
       "          3.50802503e-02],\n",
       "        [ 3.76544235e-02, -1.36418526e-02,  6.37829987e-02,\n",
       "          4.49899145e-02, -3.17520692e-03, -4.07048799e-02,\n",
       "          4.29046434e-03,  2.95056387e-03, -4.94950872e-04,\n",
       "         -2.72876056e-03],\n",
       "        [ 6.92612037e-03,  8.73375219e-02,  2.11151788e-02,\n",
       "          1.19935756e-02,  3.56866787e-02,  6.57481276e-02,\n",
       "         -1.95348439e-02,  4.04904122e-02,  2.29655858e-02,\n",
       "         -1.24040991e-02],\n",
       "        [-5.49603621e-03, -5.34481029e-02,  2.44191802e-03,\n",
       "          6.83314856e-03,  8.10408043e-02,  4.66335898e-02,\n",
       "         -2.33418553e-02,  3.26543198e-03,  2.80789485e-03,\n",
       "          7.38150248e-02],\n",
       "        [-1.77630405e-02, -1.06862165e-01, -3.21224930e-02,\n",
       "         -5.71033364e-02,  1.86313315e-02,  2.86283533e-02,\n",
       "         -2.53402154e-02,  2.07881453e-02, -2.99041640e-02,\n",
       "         -6.65574851e-03],\n",
       "        [-3.34633993e-02, -5.46477016e-02, -3.10461268e-02,\n",
       "          5.48993500e-03,  1.40452028e-02,  2.90425337e-02,\n",
       "         -2.13801354e-02, -1.66652351e-02,  5.65856950e-02,\n",
       "          3.23057026e-02],\n",
       "        [-1.44250365e-02, -4.73270192e-02,  4.62254080e-02,\n",
       "         -2.15009551e-02, -6.60435687e-02,  3.64500964e-02,\n",
       "          1.28302322e-02, -4.53112040e-02,  1.23801478e-02,\n",
       "         -6.63034749e-02],\n",
       "        [ 1.36650924e-02,  1.24571597e-02, -2.01806637e-02,\n",
       "          5.79852473e-03,  1.31692312e-02, -6.61601442e-02,\n",
       "         -1.72241567e-02,  2.59788634e-02,  1.44358121e-02,\n",
       "          2.93605291e-02],\n",
       "        [-4.36272148e-02,  9.69342838e-03, -2.70182751e-02,\n",
       "         -1.15311860e-03,  1.00816880e-01, -4.08699871e-03,\n",
       "         -4.87601662e-02, -5.94585507e-03,  3.16935748e-02,\n",
       "          2.36729311e-02],\n",
       "        [ 4.65113632e-02,  5.84722426e-02,  4.19059033e-02,\n",
       "         -4.02826572e-02,  3.40658115e-02, -6.58302232e-02,\n",
       "          8.69041159e-02, -6.52686358e-02, -4.35351629e-02,\n",
       "         -1.74623257e-02],\n",
       "        [ 5.34552802e-02, -4.25532114e-02, -1.48374293e-02,\n",
       "         -3.56030660e-02,  1.40726314e-02,  3.08718305e-02,\n",
       "          3.13176025e-02, -2.52656333e-02,  4.38300426e-02,\n",
       "          2.78635980e-02]]),\n",
       " 'b4': array([-0.7839467 , -0.89227408, -0.40846541,  0.98009244, -2.58951135,\n",
       "         1.31028679, -0.35799829, -1.22122421,  0.1391446 ,  0.28081697])}"
      ]
     },
     "execution_count": 148,
     "metadata": {},
     "output_type": "execute_result"
    }
   ],
   "source": [
    "model.params\n"
   ]
  }
 ],
 "metadata": {
  "colab": {
   "provenance": [],
   "toc_visible": true
  },
  "kernelspec": {
   "display_name": "Python 3 (ipykernel)",
   "language": "python",
   "name": "python3"
  },
  "language_info": {
   "codemirror_mode": {
    "name": "ipython",
    "version": 3
   },
   "file_extension": ".py",
   "mimetype": "text/x-python",
   "name": "python",
   "nbconvert_exporter": "python",
   "pygments_lexer": "ipython3",
   "version": "3.9.16"
  },
  "vscode": {
   "interpreter": {
    "hash": "7c15afef78f50668981ba711ec2661f2a5596a86ec48569938de9a5d0b5f4743"
   }
  }
 },
 "nbformat": 4,
 "nbformat_minor": 4
}
